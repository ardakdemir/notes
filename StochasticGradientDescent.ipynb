{
 "cells": [
  {
   "cell_type": "markdown",
   "metadata": {},
   "source": [
    "# Stochastic Gradient Descent\n",
    "\n",
    "\n",
    "Stochastic Gradient Descent (SGD) is an optimization method that is applicable to problems where\n",
    "the objective function is given as the sum of several terms \n",
    "$$\n",
    "E(w) = E_1(w) + E_2(w) + \\dots + E_N(w)\n",
    "$$\n",
    "\n",
    "Many models in machine learning lead to optimization objectives that have this form. For example, when $E_i(w)$ is the prediction error on example $i$ when using parameter $w$, the total error $E(w)$ is the sum of individual terms. \n",
    "\n",
    "SGD is an algorithm that can be used in this case. We make the following observations:\n",
    "\n",
    "* We can work with the average error\n",
    "$$\n",
    "\\frac{1}{N}E(w) = \\frac{1}{N}(E_1(w) + E_2(w) + \\dots + E_N(w))\n",
    "$$\n",
    "and the true average gradient is \n",
    "$$\n",
    "\\frac{1}{N} \\nabla E(w) = \\frac{1}{N}\\nabla  E_1(w) + \\frac{1}{N}\\nabla E_2(w) + \\dots + \\frac{1}{N}\\nabla E_N(w) \\equiv g_{[N]}(w) = g(w)\n",
    "$$\n",
    "\n",
    "* In a gradient descent algorithm, the computational burden will come from calculating the gradient for each data point in a big dataset. Remember that after taking a gradient descent, step the parameter will change and we will need to calculate the gradient again from scratch. If the data set is large, we could approximately calculate the true average gradient as\n",
    "\n",
    "$$\n",
    "\\frac{1}{N} \\nabla E(w) \\approx \\frac{1}{B}\\sum_{i\\in \\Omega}\\nabla  E_i(w) \\equiv g_\\Omega\n",
    "$$\n",
    "Here, $\\Omega$ is a random subset of $\\{1,\\dots,N\\}$ with $B$ elements.\n",
    "\n",
    "* We actually don't need to calculate the true average gradient $\\frac{1}{N} \\nabla E(w)$ exactly. In the extreme case, by just choosing $B=1$, that is just computing the gradient for a single data point, we get an unbiased but noisy estimate of the true gradient. Taking $B$ larger, reduces the variance of the gradient estimate.\n",
    "\n",
    "\n",
    "$$\n",
    "g = \\left\\langle{g_\\Omega}\\right\\rangle\n",
    "$$\n",
    "\n",
    "\n"
   ]
  },
  {
   "cell_type": "markdown",
   "metadata": {},
   "source": [
    "# Maximum Likelihood Estimation\n",
    "\n",
    "Suppose we wish to estimate the parameter $\\theta$, given conditionally independent observations\n",
    "$$\n",
    "p(x| \\theta) = \\prod_{i=1}^N p(x_i| \\theta)\n",
    "$$\n",
    "The maximum-likelihood estimator $\\theta^*$ maximizes the log likelihood function\n",
    "\\begin{align}\n",
    "\\theta^* = \\arg\\max_\\theta \\mathcal{L}(\\theta) \n",
    "\\end{align}\n",
    "\n",
    "The likelihood function can be written as the sum \n",
    "$$\n",
    "\\mathcal{L}(\\theta) = \\sum_{i=1}^N \\mathcal{L}_i(\\theta) \n",
    "$$\n",
    "\n",
    "$\\mathcal{L}_i(\\theta) \\equiv \\log p(x_i| \\theta)$"
   ]
  },
  {
   "cell_type": "markdown",
   "metadata": {},
   "source": [
    "## Example: Estimating the variance parameter of a Gaussian\n",
    "\n",
    "Assume for $i=1\\dots N$, we have conditionally independent observations \n",
    "$$\n",
    "x_i \\sim \\mathcal{N}(x; 0, \\theta)\n",
    "$$\n",
    "\n",
    "The likelihood contribution of a single data point is \n",
    "$$\\log p(x_i|\\theta) = \\mathcal{L}_i =  - \\frac{1}{2} \\frac{x_i^2}{\\theta} -\\frac{1}{2}\\log 2\\pi \\theta$$\n",
    "\n",
    "The total log-likelihood is the sum of individual data terms \n",
    "$$\\log p(x|\\theta) = \\mathcal{L}(\\theta) = \\sum_{i=1}^N \\mathcal{L}_i =  - \\frac{1}{2} \\frac{\\sum_{i=1}^N x_i^2}{\\theta} -\\frac{N}{2}\\log 2\\pi \\theta$$\n",
    "\n",
    "$$\\frac{\\partial \\mathcal{L}(\\theta)}{\\partial \\theta} = g(\\theta) = -\\frac{N}{2 \\theta} + \\frac{1}{2} \\frac{\\sum_i x_i^2}{\\theta^2}$$\n",
    "\n",
    "This problem has a solution in closed form:\n",
    "\n",
    "\\begin{align}                                                                                                                                                                                                                                                                                                                                                    g(\\theta) & = 0 = -\\frac{N}{2 \\theta} + \\frac{1}{2} \\frac{\\sum_i x_i^2}{\\theta^2} \\\\\n",
    "                                                                                                                                                                                                                                                                                                                                                    \\theta^* & = \\frac{\\sum_i x_i^2}{N}\n",
    "                                                                                                                                                                                                                                                                                                                                                    \\end{align}"
   ]
  },
  {
   "cell_type": "markdown",
   "metadata": {},
   "source": [
    "## Recursive estimation\n",
    "\n",
    "Let's denote the estimate at $N$'th step as\n",
    "\\begin{align}\n",
    "\\theta^*_{N} & = \\frac{\\sum_{i=1}^N x_i^2}{N} \\\\\n",
    "N \\theta^*_{N} & = \\sum_{i=1}^{N-1} x_i^2 + x_{N}^2 \\\\\n",
    "\\theta^*_{N} & = \\frac{1}{N}\\sum_{i=1}^{N-1} x_i^2 + \\frac{1}{N} x_{N}^2 \\\\\n",
    " & = \\frac{N-1}{N} \\theta^*_{N-1} + \\frac{1}{N} x_{N}^2 \\\\\n",
    "& = \\theta^*_{N-1} + \\frac{1}{N} (x_{N}^2 - \\theta^*_{N-1})\n",
    "\\end{align}\n",
    "\n",
    "This recursion leads to the following algorithm\n",
    "\\begin{align}\n",
    "\\theta^*_{1}  & = x_1^2  \\\\\n",
    "\\text{for } & \\tau=2,3,\\dots & \\\\\n",
    "&\\theta^*_{\\tau}  = \\theta^*_{\\tau-1} + \\frac{1}{\\tau} (x_{\\tau}^2 - \\theta^*_{\\tau-1})\n",
    "\\end{align}\n",
    "\n",
    "\n"
   ]
  },
  {
   "cell_type": "markdown",
   "metadata": {},
   "source": [
    "Generate sample data from the true model"
   ]
  },
  {
   "cell_type": "code",
   "execution_count": 2,
   "metadata": {
    "collapsed": true
   },
   "outputs": [],
   "source": [
    "%matplotlib inline\n",
    "import matplotlib as mpl\n",
    "import matplotlib.pyplot as plt\n",
    "import numpy as np\n",
    "import scipy as sc\n",
    "import pandas as pd\n",
    "\n",
    "mpl.rc('font',**{'size': 20, 'family':'sans-serif','sans-serif':['Helvetica']})\n",
    "mpl.rc('text', usetex=True)\n",
    "\n",
    "N = 1000\n",
    "x = np.random.randn(N)\n",
    "\n",
    "def g(th, N, s):\n",
    "    return -0.5/th + 0.5*s/N/th**2\n"
   ]
  },
  {
   "cell_type": "markdown",
   "metadata": {},
   "source": [
    "# Exact recursive maximum likelihood"
   ]
  },
  {
   "cell_type": "code",
   "execution_count": 55,
   "metadata": {},
   "outputs": [
    {
     "data": {
      "image/png": "[encoded data removed]",
      "text/plain": [
       "<matplotlib.figure.Figure at 0x119a634e0>"
      ]
     },
     "metadata": {},
     "output_type": "display_data"
    }
   ],
   "source": [
    "th_star = np.mean(x**2)\n",
    "th = 0\n",
    "TH = []\n",
    "for n in range(N):\n",
    "    th = th + (x[n]**2 - th)/(n+1)\n",
    "    TH.append(th)\n",
    "\n",
    "plt.figure(figsize=(12,3))\n",
    "plt.plot(TH)\n",
    "plt.axhline(th_star, ls=':')\n",
    "plt.show()"
   ]
  },
  {
   "cell_type": "markdown",
   "metadata": {},
   "source": [
    "The following panel illustrates the true gradient of the likelihood $\\mathcal{L}$ with \n",
    "estimates obtained on random subsets denoted by $\\Omega$. The expectation of the random gradients\n",
    "is the true gradient\n",
    "\n",
    "$$\n",
    "g(\\theta) = \\left\\langle{g_\\Omega(\\theta)}\\right\\rangle\n",
    "$$\n"
   ]
  },
  {
   "cell_type": "code",
   "execution_count": 34,
   "metadata": {
    "scrolled": false
   },
   "outputs": [
    {
     "data": {
      "application/vnd.jupyter.widget-view+json": {
       "model_id": "7b3d9469d16a45829d4812c2da0ade1f",
       "version_major": 2,
       "version_minor": 0
      },
      "text/html": [
       "<p>Failed to display Jupyter Widget of type <code>interactive</code>.</p>\n",
       "<p>\n",
       "  If you're reading this message in Jupyter Notebook or JupyterLab, it may mean\n",
       "  that the widgets JavaScript is still loading. If this message persists, it\n",
       "  likely means that the widgets JavaScript library is either not installed or\n",
       "  not enabled. See the <a href=\"https://ipywidgets.readthedocs.io/en/stable/user_install.html\">Jupyter\n",
       "  Widgets Documentation</a> for setup instructions.\n",
       "</p>\n",
       "<p>\n",
       "  If you're reading this message in another notebook frontend (for example, a static\n",
       "  rendering on GitHub or <a href=\"https://nbviewer.jupyter.org/\">NBViewer</a>),\n",
       "  it may mean that your frontend doesn't currently support widgets.\n",
       "</p>\n"
      ],
      "text/plain": [
       "interactive(children=(IntSlider(value=1, description='B', max=500, min=1, step=10), IntSlider(value=10, description='NumOfBatches', max=400, min=10, step=10), Output()), _dom_classes=('widget-interact',))"
      ]
     },
     "metadata": {},
     "output_type": "display_data"
    }
   ],
   "source": [
    "\n",
    "from ipywidgets import interact, interactive, fixed\n",
    "import ipywidgets as widgets\n",
    "from IPython.display import clear_output, display, HTML\n",
    "from matplotlib import rc\n",
    "\n",
    "\n",
    "\n",
    "def plot_batch(B=1, NumOfBatches=10):\n",
    "    th = np.linspace(0.4,2)\n",
    "\n",
    "    for J in range(NumOfBatches):\n",
    "        s = np.sum(np.random.choice(x, size=B,replace=False)**2)\n",
    "        plt.plot(th, g(th, B, s), ls='-', alpha=0.3, color='blue')\n",
    "\n",
    "    s = np.sum(x**2)\n",
    "    plt.plot(th, g(th, N, s), ls=':', linewidth=4, color='red',label='true')\n",
    "\n",
    "    plt.gca().set_ylim([-0.2,1])\n",
    "    plt.grid()\n",
    "\n",
    "    plt.xlabel('$\\\\theta$/Parameter')\n",
    "    plt.ylabel('$g$/Gradient Estimate')\n",
    "    #plt.legend(['$g_\\Omega$','$g(\\\\theta)$'])\n",
    "    plt.title('True gradient versus mini-batch')\n",
    "    plt.show()\n",
    "    \n",
    "res = interact(plot_batch, NumOfBatches=(10,400,10), B=(1,500,10))"
   ]
  },
  {
   "cell_type": "markdown",
   "metadata": {},
   "source": [
    "# SGD\n",
    "\n",
    "* Local search algorithms have the form :\n",
    "\\begin{align}\n",
    "w_0 & = \\text{some initial value} \\\\\n",
    "\\text{for}\\;\\; & \\tau = 1, 2,\\dots \\\\\n",
    "& w_\\tau = w_{\\tau-1} + \\eta_\\tau s_\\tau\n",
    "\\end{align}\n",
    "\n",
    "$\\eta_\\tau$ is a learning rate and $s_\\tau$ is a search direction. \n",
    "\n",
    "At each iteration $\\tau$, minibatch SGD selects random $i$ from $1\\dots N$. Set the search direction \n",
    "$$\n",
    "s_\\tau = \\nabla\\mathcal{L}_i(\\theta_{\\tau-1})\n",
    "$$\n",
    "\n",
    "\n",
    "\n",
    "# Minibatch SGD\n",
    "\n",
    "\n",
    "\n",
    "\n",
    "\n",
    "\n",
    "At each iteration $\\tau$, minibatch SGD selects a random subset $\\Omega_\\tau$ of size $B_\\tau$ of $1\\dots N$. Set the search direction \n",
    "$$\n",
    "s_\\tau = \\frac{1}{B_\\tau}\\sum_{i\\in \\Omega_\\tau} \\nabla\\mathcal{L}_i(\\theta_{\\tau-1})\n",
    "$$\n",
    "\n",
    "When the batch size is one ($B=1$), the minibatch SGD algorithm is SGD."
   ]
  },
  {
   "cell_type": "markdown",
   "metadata": {},
   "source": [
    "\\begin{align}\n",
    "g_\\Omega(\\theta)/B & = -\\frac{1}{2 \\theta} + \\frac{1}{2} \\frac{\\sum_{i\\in \\Omega} x_i^2}{B\\theta^2} \\\\\n",
    "& = \\frac{1}{2\\theta^2}\\left(-\\theta + \\frac{1}{B}\\sum_{i\\in \\Omega} x_i^2\\right)\n",
    "\\end{align}\n"
   ]
  },
  {
   "cell_type": "code",
   "execution_count": 92,
   "metadata": {
    "scrolled": true
   },
   "outputs": [
    {
     "data": {
      "application/vnd.jupyter.widget-view+json": {
       "model_id": "09c4d2dca8de4de3ae8043e9c774d859",
       "version_major": 2,
       "version_minor": 0
      },
      "text/html": [
       "<p>Failed to display Jupyter Widget of type <code>interactive</code>.</p>\n",
       "<p>\n",
       "  If you're reading this message in Jupyter Notebook or JupyterLab, it may mean\n",
       "  that the widgets JavaScript is still loading. If this message persists, it\n",
       "  likely means that the widgets JavaScript library is either not installed or\n",
       "  not enabled. See the <a href=\"https://ipywidgets.readthedocs.io/en/stable/user_install.html\">Jupyter\n",
       "  Widgets Documentation</a> for setup instructions.\n",
       "</p>\n",
       "<p>\n",
       "  If you're reading this message in another notebook frontend (for example, a static\n",
       "  rendering on GitHub or <a href=\"https://nbviewer.jupyter.org/\">NBViewer</a>),\n",
       "  it may mean that your frontend doesn't currently support widgets.\n",
       "</p>\n"
      ],
      "text/plain": [
       "interactive(children=(IntSlider(value=1, description='B', min=1), FloatSlider(value=1.0, description='eta', max=5.0, min=0.01, step=0.01), IntSlider(value=0, description='seed'), Output()), _dom_classes=('widget-interact',))"
      ]
     },
     "metadata": {},
     "output_type": "display_data"
    }
   ],
   "source": [
    "\n",
    "th_true = np.sum(x**2)/N\n",
    "\n",
    "def plot_path(B=1, eta=1., seed=0):\n",
    "    np.random.seed(seed)\n",
    "    theta = 1.5\n",
    "\n",
    "    MAX_ITER = 1000\n",
    "    \n",
    "    TH = []\n",
    "    TH.append(theta)\n",
    "    for tau in range(MAX_ITER):\n",
    "        eta_tau = eta/(tau+1)\n",
    "        x_omega = np.random.choice(x, size=B)\n",
    "        theta = theta + eta_tau*(-0.5/theta + 0.5*np.sum(x_omega**2)/B/theta**2 )\n",
    "        TH.append(theta)\n",
    "\n",
    "    TH = np.array(TH)\n",
    "    plt.figure(figsize=(12,3))\n",
    "    plt.plot(TH)\n",
    "    plt.axhline(th_true, ls=':',color='r')\n",
    "    plt.ylabel('$\\\\theta_\\\\tau$/Estimate at $\\\\tau$')\n",
    "    plt.xlabel('$\\\\tau$/Iteration')\n",
    "    \n",
    "    plt.ylim([0.75, 1.5])\n",
    "\n",
    "    plt.show()\n",
    "    \n",
    "res = interact(plot_path, B=(1,100), eta=(0.01,5,0.01), seed=(0,100))"
   ]
  },
  {
   "cell_type": "markdown",
   "metadata": {},
   "source": [
    "A model for outliers\n",
    "\n",
    "$$\n",
    "x_i \\sim \\frac{1}{2}\\mathcal{N}(x; 0, \\theta) + \\frac{1}{2}\\mathcal{N}(x; 0, 100)\n",
    "$$\n"
   ]
  },
  {
   "cell_type": "code",
   "execution_count": 221,
   "metadata": {
    "scrolled": true
   },
   "outputs": [
    {
     "data": {
      "image/png": "[encoded data removed]",
      "text/plain": [
       "<matplotlib.figure.Figure at 0x11a460208>"
      ]
     },
     "metadata": {},
     "output_type": "display_data"
    }
   ],
   "source": [
    "def log_gauss_pdf(x,mu,v):\n",
    "    return -0.5*np.log(2*np.pi*v) - 0.5*(x-mu)**2/v\n",
    "\n",
    "x = np.linspace(-10,10,200)\n",
    "v = 0.1\n",
    "v0 = 40.\n",
    "m = 3.\n",
    "\n",
    "y = np.log(0.006*np.exp(log_gauss_pdf(x,m,v)) + 0.994*np.exp(log_gauss_pdf(x,0,v0)))\n",
    "\n",
    "plt.plot(x,y)\n",
    "plt.show()\n"
   ]
  },
  {
   "cell_type": "code",
   "execution_count": 28,
   "metadata": {
    "collapsed": true
   },
   "outputs": [],
   "source": [
    "import torch\n",
    "import torch.autograd\n",
    "from torch.autograd import Variable\n",
    "\n",
    "X_np = np.array([1, 2.5, -3.2, -1.1, 2.2, 2])\n",
    "X = Variable(torch.from_numpy(X_np).double(), requires_grad=False)"
   ]
  },
  {
   "cell_type": "code",
   "execution_count": 36,
   "metadata": {
    "scrolled": false
   },
   "outputs": [
    {
     "name": "stdout",
     "output_type": "stream",
     "text": [
      "[ 0.62786465]\n"
     ]
    },
    {
     "data": {
      "image/png": "[encoded data removed]",
      "text/plain": [
       "<matplotlib.figure.Figure at 0x120510940>"
      ]
     },
     "metadata": {},
     "output_type": "display_data"
    },
    {
     "data": {
      "image/png": "[encoded data removed]",
      "text/plain": [
       "<matplotlib.figure.Figure at 0x119f745f8>"
      ]
     },
     "metadata": {},
     "output_type": "display_data"
    }
   ],
   "source": [
    "# Implementation \n",
    "v  = Variable(torch.DoubleTensor([3.3]), requires_grad=True)\n",
    "m0 = Variable(torch.DoubleTensor([0.]), requires_grad=False)\n",
    "m  = Variable(torch.DoubleTensor([3.]), requires_grad=False)\n",
    "v0 = Variable(torch.DoubleTensor([40.]), requires_grad=False)\n",
    "c  = Variable(torch.DoubleTensor([0.006,0.994]), requires_grad=False)\n",
    "\n",
    "def loglik(X, m, v, m0, v0, c):\n",
    "    return torch.log(c[0]*torch.exp(log_gauss_pdf(X,m,v)) \n",
    "                     + c[1]*torch.exp(log_gauss_pdf(X,m0,v0)) )\n",
    "\n",
    "def log_gauss_pdf(x,mu,v):\n",
    "#    return -torch.log(v) - (x-mu)*(x-mu)/v\n",
    "    return -0.5*torch.log(2*np.pi*v) - 0.5*torch.pow(x-mu,2)/v\n",
    "\n",
    "\n",
    "eta = 2\n",
    "MAX_ITER = 200\n",
    "V = []\n",
    "L = []\n",
    "for epoch in range(MAX_ITER): \n",
    "\n",
    "    # Compute the loglikelihood\n",
    "    LL = torch.sum(loglik(X, m, v, m0, v0, c)) \n",
    "    L.append(LL.data)\n",
    "    # Compute the gradients by automated differentiation\n",
    "    LL.backward()\n",
    "    \n",
    "    # The gradient ascent step\n",
    "    v.data.add_(eta*v.grad.data)\n",
    "    V.append(1*v.data.numpy())\n",
    "    \n",
    "    #print(v.grad.data)\n",
    "    # Reset the gradients, as otherwise they are accumulated in v.grad\n",
    "    v.grad.zero_() \n",
    "    \n",
    "print(v.data.numpy())\n",
    "\n",
    "plt.plot(V)\n",
    "plt.show()\n",
    "plt.plot(L)\n",
    "plt.show()\n"
   ]
  },
  {
   "cell_type": "code",
   "execution_count": 5,
   "metadata": {},
   "outputs": [
    {
     "name": "stdout",
     "output_type": "stream",
     "text": [
      "\n",
      "1.00000e-03 *\n",
      "  2.2835\n",
      "[torch.DoubleTensor of size 1]\n",
      "\n"
     ]
    },
    {
     "data": {
      "text/plain": [
       "Variable containing:\n",
       " 0\n",
       "[torch.DoubleTensor of size 1]"
      ]
     },
     "execution_count": 5,
     "metadata": {},
     "output_type": "execute_result"
    }
   ],
   "source": [
    "\n",
    "v  = Variable(torch.DoubleTensor([0.05]), requires_grad=True)\n",
    "m0 = Variable(torch.DoubleTensor([0.]),  requires_grad=False)\n",
    "m  = Variable(torch.DoubleTensor([3.]),  requires_grad=False)\n",
    "v0 = Variable(torch.DoubleTensor([40.]), requires_grad=False)\n",
    "c  = Variable(torch.DoubleTensor([0.006,0.994]), requires_grad=False)\n",
    "\n",
    "def loglik(X, m, v, m0, v0, c):\n",
    "    return c[0]*torch.exp(log_gauss_pdf(X,m,v)) + c[1]*torch.exp(log_gauss_pdf(X,m0,v0)) \n",
    "\n",
    "LL = torch.sum(loglik(X, m, v, m0, v0, c)) \n",
    "\n",
    "LL.backward()\n",
    "\n",
    "print(v.grad.data)\n",
    "\n",
    "v.grad.zero_()\n"
   ]
  },
  {
   "cell_type": "code",
   "execution_count": 230,
   "metadata": {},
   "outputs": [
    {
     "data": {
      "image/png": "[encoded data removed]",
      "text/plain": [
       "<matplotlib.figure.Figure at 0x119dc0cc0>"
      ]
     },
     "metadata": {},
     "output_type": "display_data"
    },
    {
     "data": {
      "text/plain": [
       "Variable containing:\n",
       " 0\n",
       " 0\n",
       " 0\n",
       " 0\n",
       " 0\n",
       " 0\n",
       " 0\n",
       " 0\n",
       " 0\n",
       " 0\n",
       " 0\n",
       " 0\n",
       " 0\n",
       " 0\n",
       " 0\n",
       " 0\n",
       " 0\n",
       " 0\n",
       " 0\n",
       " 0\n",
       " 0\n",
       " 0\n",
       " 0\n",
       " 0\n",
       " 0\n",
       " 0\n",
       " 0\n",
       " 0\n",
       " 0\n",
       " 0\n",
       " 0\n",
       " 0\n",
       " 0\n",
       " 0\n",
       " 0\n",
       " 0\n",
       " 0\n",
       " 0\n",
       " 0\n",
       " 0\n",
       " 0\n",
       " 0\n",
       " 0\n",
       " 0\n",
       " 0\n",
       " 0\n",
       " 0\n",
       " 0\n",
       " 0\n",
       " 0\n",
       " 0\n",
       " 0\n",
       " 0\n",
       " 0\n",
       " 0\n",
       " 0\n",
       " 0\n",
       " 0\n",
       " 0\n",
       " 0\n",
       " 0\n",
       " 0\n",
       " 0\n",
       " 0\n",
       " 0\n",
       " 0\n",
       " 0\n",
       " 0\n",
       " 0\n",
       " 0\n",
       " 0\n",
       " 0\n",
       " 0\n",
       " 0\n",
       " 0\n",
       " 0\n",
       " 0\n",
       " 0\n",
       " 0\n",
       " 0\n",
       " 0\n",
       " 0\n",
       " 0\n",
       " 0\n",
       " 0\n",
       " 0\n",
       " 0\n",
       " 0\n",
       " 0\n",
       " 0\n",
       " 0\n",
       " 0\n",
       " 0\n",
       " 0\n",
       " 0\n",
       " 0\n",
       " 0\n",
       " 0\n",
       " 0\n",
       " 0\n",
       "[torch.FloatTensor of size 100]"
      ]
     },
     "execution_count": 230,
     "metadata": {},
     "output_type": "execute_result"
    }
   ],
   "source": [
    "def fun(v):\n",
    "    return torch.sin(v)*v**2 + 2*v\n",
    "\n",
    "v  = Variable(torch.linspace(-3,3,100), requires_grad=True)\n",
    "LL = torch.sum(fun(v))\n",
    "LL.backward()\n",
    "\n",
    "plt.plot(v.data.numpy(), v.grad.data.numpy())\n",
    "plt.plot(v.data.numpy(), fun(v).data.numpy(), 'r:')\n",
    "\n",
    "plt.show()\n",
    "\n",
    "v.grad.zero_()"
   ]
  },
  {
   "cell_type": "code",
   "execution_count": 224,
   "metadata": {},
   "outputs": [
    {
     "data": {
      "text/plain": [
       "\n",
       " 0.9093\n",
       "[torch.DoubleTensor of size 1]"
      ]
     },
     "execution_count": 224,
     "metadata": {},
     "output_type": "execute_result"
    }
   ],
   "source": [
    "torch.linspace(-3,3,100)"
   ]
  }
 ],
 "metadata": {
  "kernelspec": {
   "display_name": "Python [conda root]",
   "language": "python",
   "name": "conda-root-py"
  },
  "language_info": {
   "codemirror_mode": {
    "name": "ipython",
    "version": 3
   },
   "file_extension": ".py",
   "mimetype": "text/x-python",
   "name": "python",
   "nbconvert_exporter": "python",
   "pygments_lexer": "ipython3",
   "version": "3.6.1"
  },
  "toc": {
   "nav_menu": {},
   "number_sections": true,
   "sideBar": true,
   "skip_h1_title": false,
   "toc_cell": false,
   "toc_position": {},
   "toc_section_display": "block",
   "toc_window_display": false
  }
 },
 "nbformat": 4,
 "nbformat_minor": 2
}
