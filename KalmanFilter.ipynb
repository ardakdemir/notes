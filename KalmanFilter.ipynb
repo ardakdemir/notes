{
 "cells": [
  {
   "cell_type": "markdown",
   "metadata": {
    "deletable": true,
    "editable": true
   },
   "source": [
    "# The Kalman Filter\n",
    "\n",
    "The Kalman filter is a recursive algorithm for estimating the latent state of a linear dynamical system conditioned on the observations.\n"
   ]
  },
  {
   "cell_type": "markdown",
   "metadata": {
    "deletable": true,
    "editable": true
   },
   "source": [
    "## The Linear Dynamical System (LDS)\n",
    "\n",
    "A (discrete time) linear dynamical system describes the evolution of the state of a system and\n",
    "the observations that can be obtained from the state.\n",
    "\n",
    "The system is described at times $t=1,2,\\dots$. At each time $t$, the state is denoted by an $N \\times 1$ state vector $x_t$. We don't directly observe the states but obtain observations that are related to the states. The observations are denoted by $M \\times 1$ observation vector $y_t$. The mathematical model is \n",
    "\n",
    "\\begin{eqnarray}\n",
    "x_0 & \\sim & {\\mathcal N}(\\mu, P) \\\\\n",
    "x_{t} & = & A x_{t-1} + \\epsilon_t \\\\\n",
    "y_{t} & = & C x_{t} + \\nu_t \n",
    "\\end{eqnarray}\n",
    "\n",
    "here, $\\epsilon_t$ and $\\nu_t$ are assumed to be zero mean Gaussian random variables with variance $Q$ and $P$. \n",
    "\n",
    "Equivalently, we can express the system as a hierarchical generative model\n",
    "\\begin{eqnarray}\n",
    "x_0 & \\sim & {\\mathcal N}(\\mu, P) \\\\\n",
    "x_{t}|x_{t-1} & \\sim & {\\mathcal N}(A x_{t-1}, Q) \\\\\n",
    "y_{t}|x_{t} & \\sim & {\\mathcal N}(C x_{t}, R) \n",
    "\\end{eqnarray}\n",
    "for $t=1\\dots T$.\n",
    "\n",
    "Both formulations are equivalent; where the former is more often used in engineering and the latter in statistics. Later, we will describe a few small extensions to the model.\n",
    "\n",
    "We can try to understand the meaning of each parameter to understand qualitatively what the LDS is doing. The parameters reflect our knowledge about \n",
    "\n",
    "* the initial state: $\\mu, P$\n",
    "* the inner working of the system dynamics, the state transition model: $A, Q$\n",
    "* how the states are observed, the observation model $C, R$ \n",
    "\n",
    "The initial state mean $\\mu$ is a $N \\times 1$ vector, and the initial state covariance $P$ is an $N \\times N$ positive semidefinite matrix.\n",
    "These two parameters reflect our prior knowledge about the initial state of the process: the expected state and the uncertainty around it as characterized by the covariance matrix.\n",
    "\n",
    "Think of the pair $(\\mu, \\Sigma)$ defining an ellipse and the initial state $x_0$ is most likely located somewhere in this ellipse.\n",
    "\n",
    "The state transition matrix $A$ is $N \\times N$, and the state transition noise covariance matrix $Q$ is $N \\times N$, diagonal, positive semidefinite. The state transition matrix $A$ describes the dynamic behaviour of the linear dynamic system: the system would simply undergo a linear transformation if there was no uncertainty about the dynamics\n",
    "$$\n",
    "x_t = A x_{t-1}\n",
    "$$\n",
    "The linear dynamic system model also includes an additive noise term that enables us to model random deviations from an exactly deterministic linear transformation. The deviations are assumed to be zero mean and have the covariance matrix $Q$.\n",
    "\n",
    "Given the previous state $x_{t-1}$ at time $t-1$, think of the pair $(A x_{t-1}, Q)$ defining an ellipse and the current state $x_t$ is most likely located somewhere in this ellipse.\n",
    "\n",
    "Finally, the observation matrix \n",
    "\n",
    "$C$ is $M \\times N$, observation matrix\n",
    "$R$ is $M \\times M$ and diagonal, positive semidefinite, observation noise covariance"
   ]
  },
  {
   "cell_type": "markdown",
   "metadata": {
    "deletable": true,
    "editable": true
   },
   "source": [
    "Example: A point object moving with (almost) constant velocity.\n",
    "\n",
    "\n",
    "\n"
   ]
  },
  {
   "cell_type": "markdown",
   "metadata": {
    "deletable": true,
    "editable": true
   },
   "source": [
    "The input to the algorithm are the parameters and a sequence of \n",
    "observations $y_t$ for $t=1 \\dots T$\n",
    "\n",
    "$y_t$ is $M \\times 1$ \n",
    "\n",
    "The output of the algorithm is for $t=1\\dots T$\n",
    "\n",
    "* A sequence of state predictions with\n",
    "\n",
    "-- Predicted state mean estimate: $m_{t|t-1}$\n",
    "\n",
    "-- Covariance Matrix: $\\Sigma_{t|t-1}$\n",
    "\n",
    "* A sequence of state estimates with\n",
    "\n",
    "-- Filtered state estimate: $m_{t|t}$\n",
    "\n",
    "-- Covariances: $\\Sigma_{t|t}$\n",
    "\n",
    "-- A sequence of loglikelihoods $l_k = p(y_k| y_{1:k-1})$\n",
    "\n",
    "\n",
    "## The algorithm\n",
    "\n",
    "The Kalman filtering algorithm is as follows:\n",
    "\n",
    "### Initialization\n",
    "The algorithm is initialized by\n",
    "\\begin{eqnarray}\n",
    "m_{1|0} & = & \\mu \\\\\n",
    "\\Sigma_{1|0} & = & P \\\\\n",
    "l_0 & = & 0\n",
    "\\end{eqnarray}\n",
    "\n",
    "\n",
    "For $t = 1\\dots T $\n",
    "\n",
    "### Update \n",
    "\\begin{eqnarray}\n",
    "S_t & = & C \\Sigma_{t|t-1} C^\\top + R \\\\\n",
    "G_t & =& \\Sigma_{t|t-1} C^\\top S_t^{-1} \\\\\n",
    "e_t & = & y_t - C m_{t|t-1} \\\\ \n",
    "m_{t|t} & = & m_{t|t-1} + G_t e_t \\\\ \n",
    "\\Sigma_{t|t} & = & \\Sigma_{t|t-1} - G_t C \\Sigma_{t|t-1} \\\\ \n",
    "l_t & = & l_{t-1} - \\frac{1}{2}\\log |2\\pi S_t| - \\frac{1}{2} e_t^\\top S_t^{-1} e_t \n",
    "\\end{eqnarray}\n",
    "\n",
    "### Prediction\n",
    "\n",
    "\\begin{eqnarray}\n",
    "m_{t+1|t} & = & A m_{t|t} \\\\\n",
    "\\Sigma_{t+1|t} & = & A \\Sigma_{t|t} A^\\top + Q \n",
    "\\end{eqnarray}\n",
    "\n",
    "End For"
   ]
  },
  {
   "cell_type": "code",
   "execution_count": 24,
   "metadata": {
    "collapsed": false,
    "deletable": true,
    "editable": true,
    "scrolled": false
   },
   "outputs": [
    {
     "name": "stdout",
     "output_type": "stream",
     "text": [
      "mu=\n",
      " [[ 10.]\n",
      " [ 10.]]\n",
      "P=\n",
      " [[ 100.    0.]\n",
      " [   0.  100.]]\n",
      "A=\n",
      " [[ 12.   4.]\n",
      " [  1.  -3.]]\n",
      "C=\n",
      " [[-3.  5.]\n",
      " [-4.  2.]\n",
      " [ 4. -6.]]\n",
      "Q=\n",
      " [[ 0.1  0. ]\n",
      " [ 0.   0.1]]\n",
      "R=\n",
      " [[ 2.  0.  0.]\n",
      " [ 0.  2.  0.]\n",
      " [ 0.  0.  2.]]\n",
      "observations=\n",
      " [[-1. -5.  6.]\n",
      " [ 3. -0. -5.]\n",
      " [ 1. -1. -8.]]\n"
     ]
    }
   ],
   "source": [
    "import numpy as np\n",
    "\n",
    "N = 2\n",
    "M = 3\n",
    "\n",
    "A = np.matrix(np.ceil(5*np.random.randn(N,N)))\n",
    "C = np.matrix(np.ceil(5*np.random.randn(M,N)))\n",
    "R = np.matrix(2*np.eye(M))\n",
    "Q = np.matrix(0.1*np.eye(N))\n",
    "\n",
    "mu = np.matrix(10*np.ones((N,1)))\n",
    "P = np.matrix(100*np.eye(N))\n",
    "\n",
    "print('mu=\\n',mu)\n",
    "print('P=\\n',P)\n",
    "\n",
    "print('A=\\n',A)\n",
    "print('C=\\n',C)\n",
    "print('Q=\\n',Q)\n",
    "print('R=\\n',R)\n",
    "\n",
    "T = 3;\n",
    "\n",
    "y = np.matrix(np.ceil(5*np.random.randn(M,T)))\n",
    "\n",
    "print('observations=\\n',y)"
   ]
  },
  {
   "cell_type": "markdown",
   "metadata": {
    "deletable": true,
    "editable": true
   },
   "source": [
    "## Your Task:\n",
    "\n",
    "The loglikelihood computation seems to require the inversion of a large matrix and the computation of its determinant. We can circumvent this by \n",
    "a simple trick that works when the covariance matrix R is diagonal: we update the state by processing each entry of the observation incrementally.\n",
    "\n",
    "We replace the update step with simpler operations where only scalar operations are needed.\n",
    "\n",
    "Consider the observation matrix\n",
    "\n",
    "\\begin{eqnarray}\n",
    "C & = & \\left( \\begin{array}{c} c_1 \\\\ c_2 \\\\ \\vdots \\\\ c_M \\end{array} \\right)\n",
    "\\end{eqnarray}\n",
    "where $c$ are row vectors. For example, if \n",
    "$$\n",
    "C  =  \\left( \\begin{array}{ccc} 1 & 2 & 4 \\\\ 3 & 0 & 3 \\end{array} \\right)\n",
    "$$\n",
    "$c_1 = (1,2,4) $ and $c_2 = (3,0,3)$.\n",
    "\n",
    "Similarly, assume that $R$ is diagonal with\n",
    "$$\n",
    "R = \\left( \\begin{array}{cccc} \n",
    "r_1 &     &  &  \\\\  \n",
    "    & r_2 &  & \\\\ \n",
    "    & & \\ddots  & \\\\ \n",
    "    &  &  & r_M  \n",
    "\\end{array} \\right)\n",
    "$$\n",
    "\n",
    " For example, if \n",
    "$$\n",
    "R  =  \\left( \\begin{array}{ccc} 1 & 0 \\\\ 0 & 4 \\end{array} \\right)\n",
    "$$\n",
    "$r_1 = 1 $ and $r_2 = 4$."
   ]
  },
  {
   "cell_type": "markdown",
   "metadata": {
    "deletable": true,
    "editable": true
   },
   "source": [
    "The new algorithm is as follows\n",
    "## Kalman Filter with incremental updates\n",
    "\n",
    "### Initialization\n",
    "The algorithm is initialized by\n",
    "$$\n",
    "m_{1|0}  = \\mu \n",
    "$$\n",
    "$$\n",
    "\\Sigma_{1|0}  =  P $$\n",
    "$$\n",
    "l_0  =  0\n",
    "$$\n",
    "\n",
    "\n",
    "For $t = 1\\dots T $ (OuterFor) \n",
    "### Update\n",
    "\n",
    "\n",
    "Define the temporary covariance and mean\n",
    "$$\n",
    "W_0 = \\Sigma_{t|t-1} \n",
    "$$\n",
    "$$\n",
    "v_0 = m_{t|t-1} \n",
    "$$\n",
    "$$\n",
    "\\lambda_0 = l_{t-1}\n",
    "$$\n",
    "\n",
    "For $i=1 \\dots M$ (InnerFor)\n",
    "$$\n",
    "S_{t,i}  =  c_i W_{i-1} c_i^\\top + r_i \\\\\n",
    "$$\n",
    "$$\n",
    "G_{t,i}  =  \\frac{1}{S_{t,i}} W_{i-1} c_i^\\top  \\\\\n",
    "$$\n",
    "$$\n",
    "e_{t,i}  =  y_t[i] - c_i v_{i-1} \\\\ \n",
    "$$\n",
    "$$\n",
    "v_i  =  v_{i-1} + G_{t,i} e_{t,i} \\\\ \n",
    "$$\n",
    "$$\n",
    "W_i  =  W_{i-1} - G_{t,i} c_i W_{i-1} \\\\ \n",
    "$$\n",
    "$$\n",
    "\\lambda_i =  \\lambda_{i-1} - \\frac{1}{2}\\log (2\\pi S_{t,i}) - \\frac{e_{t,i}^2}{2 S_{t,i}}  \n",
    "$$\n",
    "EndInnerfor \n",
    "\n",
    "\\begin{eqnarray}\n",
    "\\Sigma_{t|t} & = & W_M \\\\\n",
    "m_{t|t} & = & v_M \\\\\n",
    "l_t & = & \\lambda_M\n",
    "\\end{eqnarray}\n",
    "\n",
    "### Prediction\n",
    "\n",
    "\\begin{eqnarray}\n",
    "m_{t+1|t} & = & A m_{t|t} \\\\\n",
    "\\Sigma_{t+1|t} & = & A \\Sigma_{t|t} A^\\top + Q \n",
    "\\end{eqnarray}\n",
    "\n",
    "EndOuterFor\n",
    "\n",
    "Your task is implementing the Kalman filter with incremental updates as an object in C++.\n",
    "\n",
    "All the parameters will be specified when constructing the object and observations will be provided to the filter as a $M \\times T$ matrix."
   ]
  },
  {
   "cell_type": "code",
   "execution_count": 18,
   "metadata": {
    "collapsed": false,
    "deletable": true,
    "editable": true
   },
   "outputs": [],
   "source": [
    "A = np.mat('[1, 1; 0, 1]')\n",
    "C = np.mat('[1, 0]')\n",
    "Q = 0.01*np.eye(2)\n",
    "R = 0.01*np.mat('[1]')\n",
    "\n",
    "mu = np.mat('[0;1]')\n",
    "P = 0.01*np.eye(2)\n",
    "\n",
    "y = np.mat('[0, 1, 2.2]')\n",
    "\n",
    "N = 2\n",
    "M = 1\n",
    "T = y.size"
   ]
  },
  {
   "cell_type": "markdown",
   "metadata": {
    "deletable": true,
    "editable": true
   },
   "source": [
    "Below is a not very efficient and numerically unstable but nevertheless a readable implementation of the Kalman filter for your reference. For or small model sizes $M, N, T$ the results would give a base to test against. Cross check with your implementation that your numerical results are about the same.\n",
    "\n"
   ]
  },
  {
   "cell_type": "code",
   "execution_count": 25,
   "metadata": {
    "collapsed": false,
    "deletable": true,
    "editable": true
   },
   "outputs": [
    {
     "name": "stdout",
     "output_type": "stream",
     "text": [
      "m_1 =\n",
      " [[-1.17370019]\n",
      " [-0.92223791]]\n",
      "Sig_1 =\n",
      " [[ 0.28385551  0.20518623]\n",
      " [ 0.20518623  0.17907956]]\n",
      "l_1 =\n",
      " [[-12.00699967]]\n",
      "\n",
      "\n",
      "m_2 =\n",
      " [[-0.13598248]\n",
      " [-0.3460096 ]]\n",
      "Sig_2 =\n",
      " [[ 0.18609772  0.12142955]\n",
      " [ 0.12142955  0.10731049]]\n",
      "l_2 =\n",
      " [[-27.71378147]]\n",
      "\n",
      "\n",
      "m_3 =\n",
      " [[ 1.60290607]\n",
      " [ 2.05647302]]\n",
      "Sig_3 =\n",
      " [[ 0.18519405  0.12054427]\n",
      " [ 0.12054427  0.10644307]]\n",
      "l_3 =\n",
      " [[-42.23868193]]\n",
      "\n",
      "\n"
     ]
    }
   ],
   "source": [
    "\n",
    "m_pred = mu\n",
    "Sig_pred = P\n",
    "l = 0\n",
    "\n",
    "for t in range(T):\n",
    "    S = C*Sig_pred*C.T + R \n",
    "    G = Sig_pred*C.T*(S.I)\n",
    "    e = y[:,t] - C*m_pred\n",
    "    m = m_pred + G*e\n",
    "    Sig = Sig_pred - G*C*Sig_pred\n",
    "    l = l - 0.5*np.log(np.linalg.det(2*np.pi*S)) - 0.5*e.T*S.I*e\n",
    "    \n",
    "    print('m_{}'.format(t+1), '=\\n', m)\n",
    "    print('Sig_{}'.format(t+1), '=\\n',Sig)\n",
    "    print('l_{}'.format(t+1), '=\\n',l)\n",
    "    print('\\n')\n",
    "    \n",
    "    Sig_pred = A*Sig*A.T + Q\n",
    "    m_pred = A*m\n"
   ]
  },
  {
   "cell_type": "markdown",
   "metadata": {
    "deletable": true,
    "editable": true
   },
   "source": [
    "For $i=1 \\dots M$ (InnerFor)\n",
    "$$\n",
    "S_{t,i}  =  c_i W_{i-1} c_i^\\top + r_i \\\\\n",
    "$$\n",
    "$$\n",
    "G_{t,i}  =  \\frac{1}{S_{t,i}} W_{i-1} c_i^\\top  \\\\\n",
    "$$\n",
    "$$\n",
    "e_{t,i}  =  y_t[m] - c_i v_{i-1} \\\\ \n",
    "$$\n",
    "$$\n",
    "v_i  =  v_{i-1} + G_{t,i} e_{t,i} \\\\ \n",
    "$$\n",
    "$$\n",
    "W_i  =  W_{i-1} - G_{t,i} c_i W_{i-1} \\\\ \n",
    "$$\n",
    "$$\n",
    "\\lambda_i =  \\lambda_{i-1} - \\frac{1}{2}\\log (2\\pi S_{t,i}) - \\frac{e_{t,i}^2}{2 S_{t,i}}  \n",
    "$$\n",
    "EndInnerfor \n"
   ]
  },
  {
   "cell_type": "code",
   "execution_count": 26,
   "metadata": {
    "collapsed": false,
    "deletable": true,
    "editable": true
   },
   "outputs": [
    {
     "name": "stdout",
     "output_type": "stream",
     "text": [
      "m_1 =\n",
      " [[-1.17370019]\n",
      " [-0.92223791]]\n",
      "Sig_1 =\n",
      " [[ 0.28385551  0.20518623]\n",
      " [ 0.20518623  0.17907956]]\n",
      "l_1 =\n",
      " [[-12.00699967]]\n",
      "\n",
      "\n",
      "m_2 =\n",
      " [[-0.13598248]\n",
      " [-0.3460096 ]]\n",
      "Sig_2 =\n",
      " [[ 0.18609772  0.12142955]\n",
      " [ 0.12142955  0.10731049]]\n",
      "l_2 =\n",
      " [[-27.71378147]]\n",
      "\n",
      "\n",
      "m_3 =\n",
      " [[ 1.60290607]\n",
      " [ 2.05647302]]\n",
      "Sig_3 =\n",
      " [[ 0.18519405  0.12054427]\n",
      " [ 0.12054427  0.10644307]]\n",
      "l_3 =\n",
      " [[-42.23868193]]\n",
      "\n",
      "\n"
     ]
    }
   ],
   "source": [
    "m_pred = mu\n",
    "Sig_pred = P\n",
    "l = 0\n",
    "\n",
    "for t in range(T):\n",
    "    W = Sig_pred\n",
    "    v = m_pred\n",
    "    lam = l\n",
    "    for i in range(M):\n",
    "        S = C[i,:]*W*C[i,:].T + R[i,i]\n",
    "        G = W*C[i,:].T/S\n",
    "        e = y[i,t] - C[i,:]*v\n",
    "        v = v + G*e\n",
    "        W = W - G*C[i,:]*W\n",
    "        lam = lam - 0.5*np.log(2*np.pi*S) - e*e/(2*S)\n",
    "    Sig = W\n",
    "    m = v\n",
    "    l = lam\n",
    "    \n",
    "    print('m_{}'.format(t+1), '=\\n', m)\n",
    "    print('Sig_{}'.format(t+1), '=\\n',Sig)\n",
    "    print('l_{}'.format(t+1), '=\\n',l)\n",
    "    print('\\n')\n",
    "    \n",
    "    Sig_pred = A*Sig*A.T + Q\n",
    "    m_pred = A*m"
   ]
  },
  {
   "cell_type": "code",
   "execution_count": 7,
   "metadata": {
    "collapsed": false,
    "deletable": true,
    "editable": true,
    "scrolled": true
   },
   "outputs": [
    {
     "name": "stdout",
     "output_type": "stream",
     "text": [
      "{\n",
      "  \"stdin_port\": 63024, \n",
      "  \"iopub_port\": 63023, \n",
      "  \"signature_scheme\": \"hmac-sha256\", \n",
      "  \"key\": \"0f987925-31ca-4947-a769-0a7e43683ebd\", \n",
      "  \"ip\": \"127.0.0.1\", \n",
      "  \"control_port\": 63025, \n",
      "  \"shell_port\": 63022, \n",
      "  \"transport\": \"tcp\", \n",
      "  \"hb_port\": 63026\n",
      "}\n",
      "\n",
      "Paste the above JSON into a file, and connect with:\n",
      "    $> ipython <app> --existing <file>\n",
      "or, if you are local, you can connect with just:\n",
      "    $> ipython <app> --existing kernel-954ded98-c4e9-4d55-8716-719304dc99b7.json \n",
      "or even just:\n",
      "    $> ipython <app> --existing \n",
      "if this is the most recent IPython session you have started.\n"
     ]
    }
   ],
   "source": [
    "%connect_info\n"
   ]
  },
  {
   "cell_type": "code",
   "execution_count": 1,
   "metadata": {
    "collapsed": false,
    "deletable": true,
    "editable": true,
    "scrolled": true
   },
   "outputs": [
    {
     "data": {
      "text/plain": [
       "[<matplotlib.lines.Line2D at 0x106d14390>]"
      ]
     },
     "execution_count": 1,
     "metadata": {},
     "output_type": "execute_result"
    },
    {
     "data": {
      "image/png": "[encoded data removed]",
      "text/plain": [
       "<matplotlib.figure.Figure at 0x106d14320>"
      ]
     },
     "metadata": {},
     "output_type": "display_data"
    }
   ],
   "source": [
    "%matplotlib inline\n",
    "import numpy as np\n",
    "import matplotlib.pylab as plt \n",
    "\n",
    "A = 0.9\n",
    "C = 1.0\n",
    "\n",
    "R = 0.01\n",
    "Q = 0.05\n",
    "\n",
    "x0 = 0\n",
    "\n",
    "T = 100\n",
    "\n",
    "x = np.zeros((T))\n",
    "y = np.zeros((T))\n",
    "\n",
    "for t in range(T):\n",
    "    if t==0:\n",
    "        x[0] = x0\n",
    "    else:\n",
    "        x[t] = A*x[t-1] + np.sqrt(Q)*np.random.randn(1)\n",
    "\n",
    "    y[t] = C*x[t] + np.sqrt(R)*np.random.randn(1)\n",
    "\n",
    "\n",
    "    \n",
    "plt.plot(y,'r')\n",
    "plt.plot(x,'b')\n"
   ]
  },
  {
   "cell_type": "code",
   "execution_count": 2,
   "metadata": {
    "collapsed": false,
    "deletable": true,
    "editable": true
   },
   "outputs": [
    {
     "data": {
      "text/plain": [
       "[<matplotlib.lines.Line2D at 0x10f372f28>]"
      ]
     },
     "execution_count": 2,
     "metadata": {},
     "output_type": "execute_result"
    },
    {
     "data": {
      "image/png": "[encoded data removed]",
      "text/plain": [
       "<matplotlib.figure.Figure at 0x10f372cf8>"
      ]
     },
     "metadata": {},
     "output_type": "display_data"
    }
   ],
   "source": [
    "\n",
    "m = np.zeros_like(x)\n",
    "Sig = np.zeros_like(x)\n",
    "\n",
    "m0 = 0\n",
    "Sg0 = 1\n",
    "\n",
    "for t in range(T):\n",
    "    if t==0:\n",
    "        m_pred = A*m0\n",
    "        SG_pred = A*Sg0*A + Q\n",
    "    else:\n",
    "        m_pred = A*m[t-1]\n",
    "        SG_pred = A*Sig[t-1]*A + Q\n",
    "    \n",
    "\n",
    "    Gt = SG_pred*C/(C*SG_pred*C+R)\n",
    "    m[t] = m_pred + Gt*(y[t]-C*m_pred)\n",
    "    Sig[t] = SG_pred - Gt*C*SG_pred\n",
    "    \n",
    "\n",
    "plt.plot(x,'.r')\n",
    "plt.plot(m,'ob')\n"
   ]
  }
 ],
 "metadata": {
  "kernelspec": {
   "display_name": "Python 3",
   "language": "python",
   "name": "python3"
  },
  "language_info": {
   "codemirror_mode": {
    "name": "ipython",
    "version": 3
   },
   "file_extension": ".py",
   "mimetype": "text/x-python",
   "name": "python",
   "nbconvert_exporter": "python",
   "pygments_lexer": "ipython3",
   "version": "3.5.2"
  }
 },
 "nbformat": 4,
 "nbformat_minor": 0
}
