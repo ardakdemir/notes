{
 "cells": [
  {
   "cell_type": "markdown",
   "metadata": {},
   "source": [
    "# BayesNets in Jupyter NoteBook (BJN) \n",
    "\n",
    "Ali Taylan Cemgil, 2018\n",
    "\n",
    "Bogazici University\n",
    "\n",
    "This notebook contains a self contained python implementation of the junction tree algorithm for exact inference in Bayesian networks with discrete probability tables. The aim is pedagogical, to provide a compact implementation so that the algorithms can be run in a notebook. \n"
   ]
  },
  {
   "cell_type": "markdown",
   "metadata": {},
   "source": [
    "# Bayesian Networks\n",
    "A Bayesian Network is a probability model that has the form\n",
    "$\n",
    "\\newcommand{\\pa}[1]{ {\\mathop{pa}({#1})}}\n",
    "$\n",
    "$$\n",
    "p(x_{1:N}) = \\prod_{n=1}^N p(x_n | x_\\pa{n})\n",
    "$$\n",
    "The distribution is said to respect a directed acyclic graph (DAG) $\\mathcal{G} = (V_\\mathcal{G}, E_\\mathcal{G})$ with $N$ nodes, where each random variable $x_n$ is associated with the node $n$ of $\\mathcal{G}$. \n",
    "\n",
    "For each node $n$, the set of (possibly empty) parents nodes is denoted by $\\pa{n}$. \n",
    "\n",
    "We assume that for each node $j$ in $\\pa{n}$, we have a directed edge $j\\rightarrow n$, denoted as the pair $(j,n)$. The edge set of $\\mathcal{G}$ is the union of all such edges\n",
    "$$\n",
    "E_\\mathcal{G} = \\bigcup_{n \\in [N]} \\bigcup_{j \\in \\pa{n}} \\{(j,n)\\}\n",
    "$$\n",
    "\n",
    "To be associated with a proper probability model, the graph $G$ must be acyclic, that is it must be free of any directed cycles."
   ]
  },
  {
   "cell_type": "markdown",
   "metadata": {},
   "source": [
    "\n",
    "In BJN, the elements of a Bayesian Network model are:\n",
    "\n",
    "1. `alphabet`: \n",
    "      The alphabet is a set of strings for each random variable $x_n$ for $n \\in [N]$. For each random variable $x_n$ that we include in our model (an observable or a hidden) we have a corresponding unique identifier in the alphabet. To enforce a user specified ordering, the `alphabet` is represented as a list `index_names` where `index_names[n]` is the string identifier for $x_n$. \n",
    "\n",
    "1. `parents`: \n",
    "    `parents` is a catalog that defines the edges of the directed acyclic graph $\\mathcal{G}$. For each random variable $x_n$, we specify the set of parents $\\pa{n}$, the variables that directly effect $x_n$. Here, each element of the alphabet is a key, and `parents[index_names[n]]` = $\\pa{n}$ is the parent list.\n",
    "\n",
    "1. `states`: `states` is a catalog, where each key is a name from the alphabet and the value is a list of strings that specify a human readable string with each state of the random variable. \n",
    "In a discrete model each random variable $x_n$ has $I_n$ possible states. We derive a list `cardinalities` from states that is ordered according to the order specified by `index_names` where `cardinalities[n]` = $I_n$. The list `cardinalities` and the dictionary `states` must be consistent: `cardinalities[n] = len(states[index_names[n]])`\n",
    "\n",
    "1. `theta`: A catalog or list of conditional probability tables, indexed by $n =0 \\dots N-1$ . Each table `theta[n]` is an array that has $N$ dimensions. The dimensions that are in $\\{n\\} \\cup \\pa{n}$ have a cardinality $I_n$. The remaining dimensions have a cardinality of one, given by `cardinality[n]`.\n"
   ]
  },
  {
   "cell_type": "markdown",
   "metadata": {},
   "source": [
    "## Utility Functions"
   ]
  },
  {
   "cell_type": "code",
   "execution_count": 1,
   "metadata": {},
   "outputs": [],
   "source": [
    "import numpy as np\n",
    "import scipy as sc\n",
    "from scipy.special import gammaln\n",
    "from scipy.special import digamma\n",
    "%matplotlib inline\n",
    "\n",
    "from itertools import combinations\n",
    "\n",
    "import pygraphviz as pgv\n",
    "from IPython.display import Image\n",
    "from IPython.display import display\n",
    "\n",
    "def normalize(A, axis=None):\n",
    "    \"\"\"Normalize a probability table along a specified axis\"\"\"\n",
    "    Z = np.sum(A, axis=axis,keepdims=True)\n",
    "    idx = np.where(Z == 0)\n",
    "    Z[idx] = 1\n",
    "    return A/Z\n",
    "\n",
    "def find(cond):\n",
    "    \"\"\"\n",
    "        finds indices where the given condition is satisfied.\n",
    "    \"\"\"\n",
    "    return list(np.where(cond)[0])\n"
   ]
  },
  {
   "cell_type": "markdown",
   "metadata": {},
   "source": [
    "## Random structure and parameter generators"
   ]
  },
  {
   "cell_type": "code",
   "execution_count": 2,
   "metadata": {
    "collapsed": true
   },
   "outputs": [],
   "source": [
    "def random_alphabet(N=20, first_letter='A'):\n",
    "    \"\"\"Generates unique strings to be used as index_names\"\"\"\n",
    "    if N<27:\n",
    "        alphabet = [chr(i+ord(first_letter)) for i in range(N)]\n",
    "    else:\n",
    "        alphabet = ['X'+str(i) for i in range(N)]    \n",
    "    return alphabet\n",
    "\n",
    "def random_parents(alphabet, max_indeg=3):\n",
    "    \"\"\"Random DAG generation\"\"\"\n",
    "    N = len(alphabet)\n",
    "    print(alphabet)\n",
    "    indeg = lambda: np.random.choice(range(1,max_indeg+1))\n",
    "    parents = {a:[b for b in np.random.choice(alphabet[0:(1 if i==0 else i)], replace=False, size=min(indeg(),i))] for i,a in enumerate(alphabet)}\n",
    "    return parents\n",
    "\n",
    "def random_cardinalities(alphabet, cardinality_choices=[2,3,4,5]):\n",
    "    \"\"\"Random cardinalities\"\"\"\n",
    "    return [np.random.choice(cardinality_choices) for a in alphabet]\n",
    "    \n",
    "def states_from_cardinalities(alphabet, cardinalities):\n",
    "    \"\"\"Generate generic labels for each state\"\"\"\n",
    "    return {a:[a+\"_state_\"+str(u) for u in range(cardinalities[i])] for i,a in enumerate(alphabet)}\n",
    "    \n",
    "def cardinalities_from_states(alphabet, states):\n",
    "    \"\"\"Count each cardinality according to the order implied by the alphabet list\"\"\"\n",
    "    return [len(states[a]) for a in alphabet]    \n",
    "    \n",
    "def random_observations(cardinalities, visibles):\n",
    "    \"\"\"\n",
    "    Samples a tensor of the shape of visibles. This function does not sample \n",
    "    from the joint distribution implied by the graph and the probability tables\n",
    "    \"\"\"\n",
    "    return np.random.choice(range(10), size=clique_shape(cardinalities, visibles))\n",
    " \n",
    "def random_dirichlet_cp_table(gamma, cardinalities, n, pa_n):\n",
    "    '''\n",
    "        gamma : Dirichlet shape parameter\n",
    "        cardinalities : List of number of states of each variable\n",
    "        n, pa_n : Output a table of form p(n | pa_n ), n is an index, pa_n is the list of parents of n \n",
    "    '''\n",
    "    N = len(cardinalities)\n",
    "    cl_shape = clique_shape(cardinalities, [n]+pa_n)\n",
    "    U = clique_prior_marginal(cardinalities, cl_shape)\n",
    "    return normalize(np.random.gamma(shape=gamma*U, size=cl_shape), axis=n)\n",
    "\n",
    "def random_cp_tables(index_names, cardinalities, parents, gamma):\n",
    "    \"\"\"\n",
    "    Samples a set of conditional probability tables consistent with the factorization\n",
    "    implied by the graph.\n",
    "    \"\"\"\n",
    "    N = len(index_names)\n",
    "    theta = [[]]*N\n",
    "    for n,a in enumerate(index_names):\n",
    "        theta[n] = random_dirichlet_cp_table(gamma, cardinalities, n, index_names_to_num(index_names, parents[a]))\n",
    "        #print(a, parents[a])\n",
    "        #print(theta[n].shape)\n",
    "        #print('--')\n",
    "    return theta\n",
    "\n",
    "def random_model(N=10, max_indeg=4):\n",
    "    \"\"\"\n",
    "    Generates a random Bayesian Network\n",
    "    \"\"\"\n",
    "    index_names = random_alphabet(N)\n",
    "    parents = random_parents(index_names)\n",
    "    cardinalities = random_cardinalities(index_names)\n",
    "    states = states_from_cardinalities(index_names, cardinalities)\n",
    "    \n",
    "    return index_names, parents, cardinalities, states"
   ]
  },
  {
   "cell_type": "markdown",
   "metadata": {},
   "source": [
    "## Graph Utilities and Visualizations"
   ]
  },
  {
   "cell_type": "code",
   "execution_count": 3,
   "metadata": {
    "collapsed": true
   },
   "outputs": [],
   "source": [
    "  \n",
    "def clique_shape(cardinalities, family):\n",
    "    N = len(cardinalities)\n",
    "    size = [1]*N\n",
    "    for i in family:\n",
    "        size[i] = cardinalities[i] \n",
    "    return size\n",
    "\n",
    "def clique_prior_marginal(cardinalities, shape):\n",
    "    U = 1\n",
    "    for a1,a2 in zip(shape, cardinalities):\n",
    "        U = U*a2/a1\n",
    "    return U\n",
    "    \n",
    "def index_names_to_num(index_names, names):\n",
    "    name2idx = {name: i for i,name in enumerate(index_names)}\n",
    "    return [name2idx[nm] for nm in names] \n",
    "\n",
    "def show_dag_image(index_names, parents, imstr='_BJN_tempfile.png'):\n",
    "    name2idx = {name: i for i,name in enumerate(index_names)}\n",
    "    A = pgv.AGraph(directed=True)\n",
    "    for i_n in index_names:\n",
    "        A.add_node(name2idx[i_n], label=i_n)\n",
    "        for j_n in parents[i_n]:\n",
    "            A.add_edge(name2idx[j_n], name2idx[i_n])\n",
    "    A.layout(prog='dot')\n",
    "    A.draw(imstr)\n",
    "    display(Image(imstr))\n",
    "    return \n",
    "\n",
    "def show_ug_image(UG, imstr='_BJN_tempfile.png'):\n",
    "    A = pgv.AGraph(directed=False)\n",
    "\n",
    "    for i_n in range(UG.shape[0]):\n",
    "        A.add_node(i_n, label=i_n)\n",
    "        for j_n in find(UG[i_n,:]):\n",
    "            if j_n>i_n:\n",
    "                A.add_edge(j_n, i_n)\n",
    "\n",
    "    A.layout(prog='dot')\n",
    "    A.draw(imstr)\n",
    "    display(Image(imstr))\n",
    "    return\n",
    "\n",
    "def make_cp_tables(index_names, cardinalities, cp_tables):\n",
    "    N = len(index_names)\n",
    "    theta = [[]]*N\n",
    "\n",
    "    for c in cp_tables:\n",
    "        if not isinstance(c, tuple):\n",
    "            nums = index_names_to_num(index_names, (c,))\n",
    "        else:\n",
    "            nums = index_names_to_num(index_names, c)\n",
    "        #print(nums)\n",
    "        n = nums[0]\n",
    "        idx = list(reversed(nums))\n",
    "        theta[n] = np.einsum(np.array(cp_tables[c]), idx, sorted(idx)).reshape(clique_shape(cardinalities,idx))\n",
    "    \n",
    "    return theta\n",
    "\n",
    "\n",
    "    \n",
    "def make_adjacency_matrix(index_names, parents):\n",
    "        nVertex = len(index_names)\n",
    "        name2idx = {name: i for i,name in enumerate(index_names)}\n",
    "\n",
    "        ## Build Graph data structures\n",
    "        # Adjacency matrix\n",
    "        adj = np.zeros((nVertex, nVertex), dtype=int)\n",
    "        for i_name in parents.keys():\n",
    "            i = name2idx[i_name]\n",
    "            for m_name in parents[i_name]:\n",
    "                j = name2idx[m_name]\n",
    "                adj[i, j] = 1\n",
    "\n",
    "        return adj\n",
    "\n",
    "def make_families(index_names, parents):\n",
    "    nVertex = len(index_names)\n",
    "    adj = make_adjacency_matrix(index_names, parents)\n",
    "    # Possibly check topological ordering\n",
    "    # toposort(adj)\n",
    "    \n",
    "    # Family, Parents and Children\n",
    "    fa = [[]]*nVertex\n",
    "    #pa = [[]]*nVertex\n",
    "    #ch = [[]]*nVertex\n",
    "    for n in range(nVertex):\n",
    "        p = find(adj[n,:])\n",
    "        #pa[n] = p\n",
    "        fa[n] = [n]+p\n",
    "        #c = find(adj[:,n])\n",
    "        #ch[n] = c\n",
    "    \n",
    "    return fa\n",
    "\n",
    "def permute_table(index_names, cardinalities, visible_names, X):\n",
    "    '''\n",
    "    Given a network with index_names and cardinalities, reshape a table X with \n",
    "    the given order as in visible_names so that it fits the storage convention of BNJNB.\n",
    "    '''\n",
    "    \n",
    "    nums = index_names_to_num(index_names, visible_names)\n",
    "    osize = [cardinalities[n] for n in nums]\n",
    "    idx = list(nums)\n",
    "    shape = clique_shape(cardinalities,idx)\n",
    "    return np.einsum(X, idx, sorted(idx)).reshape(shape)\n",
    "\n",
    "\n",
    "def make_cliques(families, cardinalities, visibles=None, show_graph=False):\n",
    "    '''\n",
    "        Builds the set of cliques of a triangulated graph.\n",
    "    '''\n",
    "    N = len(families)\n",
    "        \n",
    "    if visibles:\n",
    "        C = families+[visibles]\n",
    "    else:\n",
    "        C = families\n",
    "\n",
    "    # Moral Graph\n",
    "    MG = np.zeros((N, N)) \n",
    "\n",
    "    for F in C:\n",
    "        for edge in combinations(F,2):\n",
    "            MG[edge[0], edge[1]] = 1  \n",
    "            MG[edge[1], edge[0]] = 1  \n",
    "\n",
    "#    if show_graph:\n",
    "#        show_ug_image(MG,imstr='MG.png')\n",
    "\n",
    "\n",
    "    elim = []\n",
    "    Clique = []\n",
    "    visited = [False]*N\n",
    "\n",
    "    # Find an elimination sequence\n",
    "    # Based on greedy search \n",
    "    # Criteria, select the minimum induced clique size\n",
    "    for j in range(N):\n",
    "\n",
    "        min_clique_size = np.inf\n",
    "        min_idx = -1\n",
    "        for i in range(N):\n",
    "            if not visited[i]:\n",
    "                neigh = find(MG[i,:])\n",
    "                nm = np.prod(clique_shape(cardinalities, neigh+[i]))\n",
    "\n",
    "                if min_clique_size > nm:\n",
    "                    min_idx = i\n",
    "                    min_clique_size = nm\n",
    "\n",
    "        neigh = find(MG[min_idx,:])\n",
    "        temp = set(neigh+[min_idx])\n",
    "\n",
    "        is_subset = False\n",
    "        for CC in Clique:\n",
    "            if temp.issubset(CC):\n",
    "                is_subset=True\n",
    "        if not is_subset:\n",
    "            Clique.append(temp)\n",
    "\n",
    "        # Remove the node from the moral graph\n",
    "        for edge in combinations(neigh,2):\n",
    "            MG[edge[0], edge[1]] = 1\n",
    "            MG[edge[1], edge[0]] = 1\n",
    "\n",
    "        MG[min_idx,:] = 0\n",
    "        MG[:, min_idx] = 0\n",
    "        elim.append(min_idx)\n",
    "        visited[min_idx] = True\n",
    "#        if show_graph:\n",
    "#            show_ug_image(MG,imstr='MG'+str(j)+'.png')\n",
    "\n",
    "    return Clique, elim   \n",
    "\n",
    "def topological_order(index_names, parents):\n",
    "    \"\"\"\n",
    "    returns a topological ordering of the graph \n",
    "    \"\"\"\n",
    "    adj = make_adjacency_matrix(index_names, parents)\n",
    "    nVertex = len(index_names)\n",
    "    indeg = np.sum(adj, axis = 1)\n",
    "    zero_in = find(indeg==0)\n",
    "    topo_order = []\n",
    "    while zero_in:\n",
    "        n = zero_in.pop(0)\n",
    "        topo_order.append(n)\n",
    "        for j in find(adj[:,n]):\n",
    "            indeg[j] -= 1\n",
    "            if indeg[j] == 0:\n",
    "                zero_in.append(j)\n",
    "                \n",
    "    if len(topo_order)<nVertex:\n",
    "        return []\n",
    "    else:\n",
    "        return topo_order\n",
    "\n",
    "    "
   ]
  },
  {
   "cell_type": "markdown",
   "metadata": {},
   "source": [
    "## Spanning tree and graph traversal"
   ]
  },
  {
   "cell_type": "code",
   "execution_count": 4,
   "metadata": {
    "collapsed": true
   },
   "outputs": [],
   "source": [
    "def mst(E, N):\n",
    "    \"\"\"\n",
    "    Generate a Spanning Tree of a graph with N nodes by Kruskal's algorithm, \n",
    "    given preordered edge set E with each edge as (weight, v1, v2)\n",
    "    \n",
    "    For a minimum spanning tree, use\n",
    "    E.sort()\n",
    "    mst(E, N)\n",
    "    \n",
    "    For a maximum spanning tree, use\n",
    "    E.sort(reverse=True)\n",
    "    mst(E, N)\n",
    "    \"\"\"\n",
    "    \n",
    "    parent = list(range(N))\n",
    "    spanning_tree = {i:[] for i in range(N)}\n",
    "\n",
    "    def find_v(vertex):\n",
    "        v = vertex\n",
    "        while parent[v] != v:\n",
    "            v = parent[v]\n",
    "        return v\n",
    "\n",
    "    def union(v1, v2):\n",
    "        root1 = find_v(v1)\n",
    "        root2 = find_v(v2)\n",
    "        if root1 != root2:\n",
    "            parent[root2] = root1\n",
    "    \n",
    "    for edge in E:\n",
    "        weight, v1, v2 = edge\n",
    "        p1, p2 = find_v(v1), find_v(v2)\n",
    "        if p1 != p2:\n",
    "            union(p1, p2)\n",
    "            spanning_tree[v1].append(v2)\n",
    "            spanning_tree[v2].append(v1)\n",
    "            \n",
    "    return spanning_tree\n",
    "\n",
    "def bfs(adj_list, root):\n",
    "    \"\"\"\n",
    "        Breadth-first search starting from the root\n",
    "        \n",
    "        adj_list : A list of lists where adj_list[n] denotes the set of nodes that can be reached from node n\n",
    "        \n",
    "        Returns a BFS order, and a BFS tree as an array parent[i] \n",
    "        The root node has parent[rootnode] = -1\n",
    "    \"\"\"\n",
    "    N = len(adj_list)\n",
    "    visited = [False]*N\n",
    "    parent = [-1]*N\n",
    "    \n",
    "    queue = [root]\n",
    "    order = []\n",
    "    while queue:\n",
    "        v = queue.pop(0)\n",
    "        if not visited[v]:\n",
    "            visited[v] = True\n",
    "            for w in adj_list[v]:\n",
    "                if not visited[w]:\n",
    "                    parent[w] = v\n",
    "                    queue.append(w) \n",
    "            order.append(v)\n",
    "            \n",
    "\n",
    "    return order, parent"
   ]
  },
  {
   "cell_type": "code",
   "execution_count": 5,
   "metadata": {
    "collapsed": true
   },
   "outputs": [],
   "source": [
    "def is_leaf(i, parent):\n",
    "    return  not (i in parent)\n",
    "\n",
    "def is_root(i, parent):\n",
    "    return parent[i] == -1\n",
    "\n",
    "def make_list_receive_from(parent):\n",
    "    lst = [[] for i in range(len(parent)) ]\n",
    "    for i,p in enumerate(parent):\n",
    "        if p!= -1:\n",
    "            lst[p].append(i)\n",
    "    \n",
    "    return lst"
   ]
  },
  {
   "cell_type": "markdown",
   "metadata": {},
   "source": [
    "## Samplers"
   ]
  },
  {
   "cell_type": "code",
   "execution_count": 6,
   "metadata": {
    "collapsed": true
   },
   "outputs": [],
   "source": [
    "def sample_indices(index_names, parents, cardinalities, theta, num_of_samples=1):\n",
    "    \n",
    "    N = len(index_names)\n",
    "    order = topological_order(index_names, parents)\n",
    "    X = []\n",
    "\n",
    "    for count in range(num_of_samples):\n",
    "        x = [[]]*N\n",
    "        for n in order:\n",
    "            varname = index_names[n] \n",
    "\n",
    "            idx = index_names_to_num(index_names,parents[varname])\n",
    "\n",
    "            j = [0]*N\n",
    "            for i in idx:\n",
    "                j[i] = x[i]\n",
    "\n",
    "            I_n = cardinalities[n]\n",
    "            j[n] = tuple(range(I_n))\n",
    "            #print(j)\n",
    "            #print(theta[n][j])\n",
    "            x[n] = np.random.choice(I_n, p=theta[n][j].flatten())\n",
    "            #print(x)        \n",
    "        X.append(x)        \n",
    "    return X\n",
    "\n",
    "\n",
    "def sample_states(var_names, states, index_names, parents, theta, num_of_samples=1):\n",
    "    \"\"\"\n",
    "    Returns a dict with keys as state_name tuples and values as counts.\n",
    "    This function generates each sample separately, so if \n",
    "    num_of_samples is large, consider using sample_counts\n",
    "    \n",
    "    \"\"\"\n",
    "    N = len(index_names)\n",
    "    order = topological_order(index_names, parents)\n",
    "    \n",
    "    X = dict()\n",
    "    nums = index_names_to_num(index_names,var_names)\n",
    "    cardinalities = cardinalities_from_states(index_names, states)\n",
    "    \n",
    "    shape = clique_shape(cardinalities, nums)\n",
    "    \n",
    "    for count in range(num_of_samples):\n",
    "        x = [[]]*N\n",
    "        for n in order:\n",
    "            varname = index_names[n] \n",
    "\n",
    "            idx = index_names_to_num(index_names,parents[varname])\n",
    "\n",
    "            j = [0]*N\n",
    "            for i in idx:\n",
    "                j[i] = x[i]\n",
    "\n",
    "            I_n = cardinalities[n]\n",
    "            j[n] = tuple(range(I_n))\n",
    "            #print(j)\n",
    "            #print(theta[n][j])\n",
    "            x[n] = np.random.choice(I_n, p=theta[n][j].flatten())\n",
    "            #print(x)    \n",
    "    \n",
    "        key = tuple((states[index_names[n]][x[n]] for n in nums))\n",
    "        X[key] = X.get(key, 0) + 1\n",
    "    \n",
    "    return X\n",
    "\n",
    "\n",
    "\n",
    "def counts_to_table(var_names, ev_counts, index_names, states):\n",
    "    \"\"\"\n",
    "    Given observed variables names as var_names and\n",
    "    observations as key-value pairs {state_configuration: count} \n",
    "    create a table of counts.\n",
    "    \n",
    "    A state configuration is a tuple (state_name_0, ..., state_name_{K-1})\n",
    "    where K is the lenght of var_names, and state_name_k is a state\n",
    "    from states[var_names[k]]\n",
    "    \"\"\"\n",
    "    var_nums = list(index_names_to_num(index_names, var_names))\n",
    "    cardinalities = cardinalities_from_states(index_names, states)\n",
    "    shape = clique_shape(cardinalities, var_nums)\n",
    "    C = np.zeros(shape=shape)\n",
    "    N = len(index_names)\n",
    "\n",
    "    for rec in ev_counts.keys():\n",
    "        conf = [0]*N\n",
    "        for key, val in zip(var_names, rec):\n",
    "            s = states[key].index(val)\n",
    "            n = index_names_to_num(index_names, [key])[0]\n",
    "\n",
    "            conf[n] = s\n",
    "\n",
    "        #print(conf)\n",
    "        # Final value is the count that the pair is observed\n",
    "        C[tuple(conf)] += ev_counts[rec]\n",
    "        \n",
    "    return C "
   ]
  },
  {
   "cell_type": "markdown",
   "metadata": {},
   "source": [
    "## The inference Engine"
   ]
  },
  {
   "cell_type": "code",
   "execution_count": 7,
   "metadata": {
    "collapsed": true
   },
   "outputs": [],
   "source": [
    "def clamped_pot(X, ev_states):\n",
    "    \"\"\"\n",
    "        Returns a subslice of a table. Used for clamping conditional probability tables \n",
    "        to a given set of evidence. \n",
    "        \n",
    "        X: table\n",
    "        ev_states: list of clamped states ev_states[i]==e (use None if not clamped)\n",
    "    \"\"\"\n",
    "    \n",
    "    #                  var is clamped,              var not clamped\n",
    "    #                  ev_states[i]==e           ev_states[i]==None\n",
    "    # var is member    idx[i] = e                   idx[i] = slice(0, X.shape[i])\n",
    "    # var not member   idx[i] = None                idx[i] = slice(0, X.shape[i])\n",
    "    \n",
    "    card = list(X.shape)\n",
    "    N = len(card)    \n",
    "    idx = [[]]*N\n",
    "\n",
    "    for i,e in enumerate(ev_states):\n",
    "        if e is None and X.shape[i]>1: # the variable is unclamped or it is not a member of the potential\n",
    "            idx[i] = slice(0, X.shape[i])\n",
    "        else:\n",
    "            if X.shape[i]==1:\n",
    "                idx[i] = 0\n",
    "            else:\n",
    "                idx[i] = e\n",
    "                card[i] = 1\n",
    "    return X[tuple(idx)].reshape(card)         "
   ]
  },
  {
   "cell_type": "code",
   "execution_count": 316,
   "metadata": {
    "scrolled": true
   },
   "outputs": [
    {
     "name": "stdout",
     "output_type": "stream",
     "text": [
      "(2, 4, 3, 1, 5)\n",
      "*\n",
      "(1, 4, 3, 1, 1)\n"
     ]
    }
   ],
   "source": [
    "sz = (2,4,3,1,5)\n",
    "T = np.random.choice([1,2,3,4], size=sz)\n",
    "print(T.shape)\n",
    "#print(T[1,:,:,0,0].shape)\n",
    "print('*')\n",
    "print(clamped_pot(T, [1, None, None, 7, 0]).shape)"
   ]
  },
  {
   "cell_type": "code",
   "execution_count": 63,
   "metadata": {
    "collapsed": true
   },
   "outputs": [],
   "source": [
    "def multiply(theta, idx): \n",
    "    \"\"\"Multiply a subset of a given list of potentials\"\"\"\n",
    "    par = [f(n) for n in idx for f in (lambda n: theta[n], lambda n: range(len(theta)))]+[range(len(theta))]    \n",
    "    return np.einsum(*par)\n",
    "\n",
    "def condition_and_multiply(theta, idx, ev_states): \n",
    "    \"\"\"Multiply a subset of a given list of potentials\"\"\"\n",
    "    par = [f(n) for n in idx for f in (lambda n: clamped_pot(theta[n], ev_states), lambda n: range(len(theta)))]+[range(len(theta))]    \n",
    "    return np.einsum(*par)\n",
    "\n",
    "def marginalize(Cp, idx, cardinalities):\n",
    "    return np.einsum(Cp, range(len(cardinalities)), [int(s) for s in sorted(idx)]).reshape(clique_shape(cardinalities,idx))\n",
    "\n",
    "\n",
    "class Engine():\n",
    "    def __init__(self, index_names, parents, states, theta, visible_names=[]):\n",
    "        \n",
    "        self.states = states\n",
    "        cardinalities = [len(states[a]) for a in index_names]\n",
    "        \n",
    "        families = make_families(index_names, parents)        \n",
    "        self.cardinalities = cardinalities\n",
    "        self.index_names = index_names\n",
    "        \n",
    "        visibles = index_names_to_num(index_names, visible_names)\n",
    "        self.Clique, self.elim = make_cliques(families, cardinalities, visibles)\n",
    "\n",
    "        \n",
    "        # Assign each conditional Probability table to one of the Clique potentials\n",
    "        # Clique2Pot is the assignments\n",
    "        self.Pot = families\n",
    "        self.Clique2Pot = np.zeros((len(self.Clique), len(self.Pot)))\n",
    "        selected = [False]*len(self.Pot)\n",
    "        for i,c in enumerate(self.Clique):\n",
    "            for j,p in enumerate(self.Pot):\n",
    "                if not selected[j]:\n",
    "                    self.Clique2Pot[i,j] = set(p).issubset(c)\n",
    "                    if self.Clique2Pot[i,j]: \n",
    "                        selected[j] = True\n",
    "\n",
    "        # Find the root clique\n",
    "        # In our case it will be the one where all the visibles are a subset of\n",
    "        self.RootClique = -1\n",
    "        for i,c in enumerate(self.Clique):\n",
    "            if set(visibles).issubset(c):\n",
    "                self.RootClique = i\n",
    "                break\n",
    "\n",
    "        # Build the junction graph and compute a spanning tree\n",
    "        junction_graph_edges = []\n",
    "        for i,p in enumerate(self.Clique):\n",
    "            for j,q in enumerate(self.Clique):\n",
    "                ln = len(p.intersection(q))\n",
    "                if i<j and ln>0:\n",
    "                    junction_graph_edges.append((ln,i,j)) \n",
    "        junction_graph_edges.sort(reverse=True)\n",
    "        self.mst = mst(junction_graph_edges, len(self.Clique))\n",
    "        self.order, self.parent = bfs(self.mst, self.RootClique)\n",
    "        self.receive_from = make_list_receive_from(self.parent)\n",
    "\n",
    "        self.visibles = visibles\n",
    "        \n",
    "        # Setup the data structures for the Junction tree algorithm\n",
    "        self.SeparatorPot = dict()\n",
    "        self.CliquePot = dict()\n",
    "        self.theta = theta\n",
    "        self.cardinalities_clamped = []\n",
    "    \n",
    "    def propagate_observation(self, observed_configuration={}):\n",
    "        \n",
    "        ev_names = list(observed_configuration.keys())\n",
    "        observed_states = [self.states[nm].index(observed_configuration[nm]) for nm in ev_names]\n",
    "        \n",
    "        nums = index_names_to_num(self.index_names, ev_names)\n",
    "        #cardinalities_clamped = self.cardinalities.copy()\n",
    "        cardinalities_clamped = [1 if i in nums else c for i,c in enumerate(self.cardinalities)]\n",
    "        ev_states = [None]*len(self.cardinalities)\n",
    "        for i,e in zip(nums, observed_states):\n",
    "            ev_states[i] = e\n",
    "        \n",
    "        # Collect stage\n",
    "        for c in reversed(self.order):\n",
    "            self.CliquePot[c] = np.ones(clique_shape(cardinalities_clamped, self.Clique[c]))\n",
    "            for p in self.receive_from[c]:\n",
    "                self.CliquePot[c] *= self.SeparatorPot[(p,c)]\n",
    "\n",
    "            # Prepare Clique Potentials \n",
    "            # Find probability tables that need to be multiplied into \n",
    "            # the Clique potential \n",
    "            idx = find(self.Clique2Pot[c, :])\n",
    "            if idx:\n",
    "                #print(idx)\n",
    "                #print(ev_states)\n",
    "                self.CliquePot[c] *= condition_and_multiply(self.theta, idx, ev_states) \n",
    "\n",
    "            # Set the separator potential\n",
    "            if not is_root(c, self.parent):\n",
    "                idx = self.Clique[self.parent[c]].intersection(self.Clique[c])\n",
    "                self.SeparatorPot[(c,self.parent[c])] = marginalize(self.CliquePot[c], idx, cardinalities_clamped)\n",
    "\n",
    "        # Distribution Stage\n",
    "        for c in self.order[1:]:\n",
    "            idx = self.Clique[self.parent[c]].intersection(self.Clique[c])\n",
    "            self.CliquePot[c] *= marginalize(self.CliquePot[self.parent[c]], idx, cardinalities_clamped)/self.SeparatorPot[(c,self.parent[c])]        \n",
    "        \n",
    "        self.cardinalities_clamped = cardinalities_clamped\n",
    "        \n",
    "    def propagate_table(self, X=None):\n",
    "        # Collect stage\n",
    "        for c in reversed(self.order):\n",
    "            self.CliquePot[c] = np.ones(clique_shape(self.cardinalities, self.Clique[c]))\n",
    "            for p in self.receive_from[c]:\n",
    "                self.CliquePot[c] *= self.SeparatorPot[(p,c)]\n",
    "\n",
    "            # Prepare Clique Potentials \n",
    "            # Find probability tables that need to be multiplied into \n",
    "            # the Clique potential \n",
    "            idx = find(self.Clique2Pot[c, :])\n",
    "            if idx:\n",
    "                self.CliquePot[c] *= multiply(self.theta, idx) \n",
    "\n",
    "            # Set the separator potential\n",
    "            if not is_root(c, self.parent):\n",
    "                idx = self.Clique[self.parent[c]].intersection(self.Clique[c])\n",
    "                self.SeparatorPot[(c,self.parent[c])] = marginalize(self.CliquePot[c], idx, self.cardinalities)\n",
    "\n",
    "        if X is not None:    \n",
    "            SepX = marginalize(self.CliquePot[self.RootClique], self.visibles, self.cardinalities)\n",
    "            # Note: Take care of zero divide\n",
    "            self.CliquePot[self.RootClique] *= X/SepX\n",
    "\n",
    "        # Distribution Stage\n",
    "        for c in self.order[1:]:\n",
    "            idx = self.Clique[self.parent[c]].intersection(self.Clique[c])\n",
    "            self.CliquePot[c] *= marginalize(self.CliquePot[self.parent[c]], idx, self.cardinalities)/self.SeparatorPot[(c,self.parent[c])]\n",
    "        \n",
    "#    def propagate(self, ev_names=[],ev_counts=None):\n",
    "#               \n",
    "#        if ev_names:\n",
    "#            X = evidence_to_table(ev_names, ev_counts, self.index_names, self.cardinalities, self.states)\n",
    "#        else:\n",
    "#            X = None\n",
    "\n",
    "    def compute_ESS(self, X=[]):\n",
    "        \"\"\"Compute Expected Sufficient Statistics for each probability table\"\"\"\n",
    "        E_S = dict()\n",
    "        self.propagate(X)\n",
    "        for c in self.order:\n",
    "            for n in find(self.Clique2Pot[c, :]):\n",
    "                E_S[n] = marginalize(self.CliquePot[c], self.Pot[n], self.cardinalities)\n",
    "        return E_S\n",
    "    \n",
    "    def compute_marginal(self, var_names):\n",
    "        \"\"\"Compute any marginal if the variables are the subset of a clique, otherwise returns None\"\"\"\n",
    "\n",
    "        var_indices = index_names_to_num(self.index_names, var_names)\n",
    "        idx = set(var_indices)\n",
    "        j = None\n",
    "        for c in self.order:\n",
    "            if idx.issubset(self.Clique[c]):\n",
    "                j = c\n",
    "                break\n",
    "    \n",
    "        if j is not None:\n",
    "            if self.cardinalities_clamped:\n",
    "                return marginalize(self.CliquePot[j], var_indices, self.cardinalities_clamped)                \n",
    "            else:\n",
    "                return marginalize(self.CliquePot[j], var_indices, self.cardinalities)\n",
    "        else:\n",
    "            print('Desired marginal is not a subset of any clique')\n",
    "            return None\n",
    "        \n",
    "    def marginals(self, var_names, states, normalization=False):\n",
    "        \"\"\" For each variable in var_names compute the singleton marginal \"\"\"\n",
    "        L = {}\n",
    "        for v in var_names:\n",
    "            marg = self.compute_marginal([v])\n",
    "            if normalization:\n",
    "                marg = normalize(marg)\n",
    "            \n",
    "            L[v] = {states[v][i]: p for i,p in enumerate(marg.flatten())}\n",
    "                \n",
    "        return L\n",
    "        \n",
    "            \n",
    "    def sample_counts(self, var_names, num_of_samples=1):\n",
    "        self.propagate_observation({})\n",
    "        P = self.compute_marginal(var_names)\n",
    "        if P is not None:\n",
    "            return np.random.multinomial(num_of_samples, P.flatten()).reshape(P.shape)\n",
    "        else:\n",
    "            return None\n",
    "        "
   ]
  },
  {
   "cell_type": "code",
   "execution_count": 377,
   "metadata": {
    "scrolled": false
   },
   "outputs": [
    {
     "data": {
      "text/plain": [
       "array([[[[[[[[ 0.005]]]]]],\n",
       "\n",
       "\n",
       "\n",
       "\n",
       "\n",
       "        [[[[[[ 0.005]]]]]]]])"
      ]
     },
     "execution_count": 377,
     "metadata": {},
     "output_type": "execute_result"
    }
   ],
   "source": [
    "\n",
    "\n",
    "eng = Engine(index_names, parents, states, theta)\n",
    "idx = [0,1]\n",
    "ev_st = [1, None, None, None, None, None, None, None]\n",
    "condition_and_multiply(eng.theta, idx, ev_st)\n",
    "\n"
   ]
  },
  {
   "cell_type": "code",
   "execution_count": 382,
   "metadata": {
    "scrolled": true
   },
   "outputs": [
    {
     "name": "stdout",
     "output_type": "stream",
     "text": [
      "[[[[[[[[ 0.99]]]]]]]\n",
      "\n",
      "\n",
      "\n",
      "\n",
      "\n",
      "\n",
      " [[[[[[[ 0.01]]]]]]]]\n"
     ]
    },
    {
     "data": {
      "text/plain": [
       "array([[[[[[[[ 0.99]]]]]]]])"
      ]
     },
     "execution_count": 382,
     "metadata": {},
     "output_type": "execute_result"
    }
   ],
   "source": [
    "ev_st = [0, None, None, None, None, None, None, None]\n",
    "print(theta[0])\n",
    "clamped_pot(theta[0], ev_st)"
   ]
  },
  {
   "cell_type": "markdown",
   "metadata": {},
   "source": [
    "# Examples"
   ]
  },
  {
   "cell_type": "markdown",
   "metadata": {},
   "source": [
    "## Example: Oranges, Apples and Bananas\n",
    "\n",
    "Alice has two boxes, Box1 and Box2. In Box1, there are $10$ oranges, $4$ apples and $1$ banana, in Box2 there are $2$ oranges, $6$ apples and $2$ bananas. Alice chooses one of the boxes randomly, with equal probability and\n",
    "selects one of the fruits randomly, with equal probability. \n",
    "\n",
    "1. What is the probability of choosing a Banana?\n",
    "1. Given a banana is chosen, what is the probability that Alice chose Box1?"
   ]
  },
  {
   "cell_type": "code",
   "execution_count": 10,
   "metadata": {
    "scrolled": true
   },
   "outputs": [
    {
     "data": {
      "image/png": "[encoded data removed]",
      "text/plain": [
       "<IPython.core.display.Image object>"
      ]
     },
     "metadata": {},
     "output_type": "display_data"
    }
   ],
   "source": [
    "## Define the model\n",
    "index_names = ['Box', 'Fruit']\n",
    "parents = {'Box': [], 'Fruit': ['Box']}\n",
    "\n",
    "show_dag_image(index_names, parents)\n"
   ]
  },
  {
   "cell_type": "code",
   "execution_count": 11,
   "metadata": {},
   "outputs": [],
   "source": [
    "states = {'Box': ['Box1', 'Box2'], \n",
    "          'Fruit': ['Apple', 'Orange', 'Banana']}\n",
    "\n",
    "cardinalities = cardinalities_from_states(index_names, states)\n",
    "\n",
    "# Conditional Probability Tables\n",
    "cp_tables = {('Box'): [0.5, 0.5],\n",
    "             ('Fruit', 'Box'): [[10./15, 4./15, 1./15],[2./10, 6./10, 2./10]]\n",
    "            }\n",
    "\n",
    "# Initialize the correct index order for strided access by computing the necessary permutations\n",
    "theta = make_cp_tables(index_names, cardinalities, cp_tables)\n",
    "eng = Engine(index_names, parents, states, theta)\n"
   ]
  },
  {
   "cell_type": "markdown",
   "metadata": {},
   "source": [
    "What is the probability of choosing a Banana?\n",
    "\n",
    "Compute the marginal $p(\\text{Fruit}) = \\sum_{\\text{Box}} p(\\text{Fruit}|\\text{Box}) p(\\text{Box})$"
   ]
  },
  {
   "cell_type": "code",
   "execution_count": 12,
   "metadata": {
    "scrolled": true
   },
   "outputs": [
    {
     "name": "stdout",
     "output_type": "stream",
     "text": [
      "[[ 0.43333333  0.43333333  0.13333333]]\n",
      "[[ 0.43333333  0.43333333  0.13333333]]\n"
     ]
    }
   ],
   "source": [
    "# Using the BJN\n",
    "eng.propagate_table()\n",
    "print(eng.compute_marginal(['Fruit']))\n",
    "\n",
    "# Independent verification \n",
    "print(marginalize(multiply(theta, [0,1]), [1], cardinalities))\n"
   ]
  },
  {
   "cell_type": "markdown",
   "metadata": {},
   "source": [
    "Given a banana is chosen, what is the probability that Alice took it from Box1?\n",
    "\n",
    "We need to compute the posterior $$p(\\text{Box}| \\text{Fruit} = \\text{`banana`}) = \\frac{ p(\\text{Fruit} = \\text{`banana`}|\\text{Box}) p(\\text{Box})}{p(\\text{Fruit} = \\text{`banana`})}$$\n",
    "\n",
    "BJN implements two methods for calculating the answer for this query.\n",
    "\n",
    "1. `propagate_observation`\n",
    "1. `propagate_table`\n",
    "\n",
    "In the first method, `propagate_observation`, a single observation is represented by a catalog with key-value pairs where keys are observed variable names and values are observed states. This is the standard method for inference in Bayesian networks."
   ]
  },
  {
   "cell_type": "code",
   "execution_count": 13,
   "metadata": {
    "scrolled": true
   },
   "outputs": [
    {
     "name": "stdout",
     "output_type": "stream",
     "text": [
      "[[ 0.25]\n",
      " [ 0.75]]\n",
      "[ 0.25  0.75]\n"
     ]
    }
   ],
   "source": [
    "#obs = {'Fruit': 'Orange', 'Box': 'Box1'}\n",
    "#obs = {'Fruit': 'Orange'}\n",
    "obs = {'Fruit':'Banana'}\n",
    "eng = Engine(index_names, parents, states, theta)\n",
    "eng.propagate_observation(obs)\n",
    "\n",
    "marg_names = ['Box']\n",
    "print(normalize(eng.compute_marginal(marg_names)))\n",
    "\n",
    "# Independent verification \n",
    "#print(normalize(multiply(theta, [0,1])[:,1]))\n",
    "print(normalize(multiply(theta, [0,1])[:,2]))\n"
   ]
  },
  {
   "cell_type": "markdown",
   "metadata": {},
   "source": [
    "In the second method, `propagate_table`, we assume that we have obtained a collection \n",
    "of observations and we are given the counts of each possible configuration. "
   ]
  },
  {
   "cell_type": "code",
   "execution_count": 14,
   "metadata": {
    "scrolled": false
   },
   "outputs": [
    {
     "name": "stdout",
     "output_type": "stream",
     "text": [
      "[[ 0.25]\n",
      " [ 0.75]]\n",
      "[ 0.25  0.75]\n"
     ]
    }
   ],
   "source": [
    "ev_names = ['Fruit']\n",
    "ev_counts = {('Banana',): 1}\n",
    "\n",
    "ev_table = counts_to_table(ev_names, ev_counts, index_names, states)\n",
    "eng = Engine(index_names, parents, states, theta, visible_names=ev_names)\n",
    "eng.propagate_table(ev_table)\n",
    "\n",
    "marg_names = ['Box']\n",
    "#idx = index_names_to_num(index_names, ['Box'])\n",
    "print(normalize(eng.compute_marginal(marg_names)))\n",
    "\n",
    "# Independent verification \n",
    "print(normalize(multiply(theta, [0,1])[:,2]))\n"
   ]
  },
  {
   "cell_type": "code",
   "execution_count": 15,
   "metadata": {},
   "outputs": [
    {
     "name": "stdout",
     "output_type": "stream",
     "text": [
      "[[ 0.28846154]\n",
      " [ 0.71153846]]\n"
     ]
    }
   ],
   "source": [
    "ev_names = ['Fruit']\n",
    "ev_counts = {('Orange',):2, ('Banana',):1}\n",
    "#ev_counts = {('Orange',):2, ('Banana',):5, ('Apple',):12}\n",
    "#ev_counts = {('Orange',):1}\n",
    "C = counts_to_table(ev_names, ev_counts, index_names, states)\n",
    "\n",
    "eng.propagate_table(C)\n",
    "\n",
    "marg_names = ['Box']\n",
    "#idx = index_names_to_num(index_names, ['Box'])\n",
    "print(normalize(eng.compute_marginal(marg_names)))\n"
   ]
  },
  {
   "cell_type": "code",
   "execution_count": 16,
   "metadata": {
    "scrolled": true
   },
   "outputs": [
    {
     "name": "stdout",
     "output_type": "stream",
     "text": [
      "[[ 0.64257028  0.          0.        ]\n",
      " [ 0.          0.09638554  0.26104418]]\n"
     ]
    }
   ],
   "source": [
    "ev_names = ['Fruit','Box']\n",
    "ev_counts = {('Apple','Box1'):12, ('Orange','Box2'):2, ('Banana','Box2'):5}\n",
    "\n",
    "C = counts_to_table(ev_names, ev_counts, index_names, states)\n",
    "\n",
    "eng.propagate_table(C)\n",
    "\n",
    "marg_names = ['Fruit', 'Box']\n",
    "#idx = index_names_to_num(index_names, ['Box'])\n",
    "print(normalize(eng.compute_marginal(marg_names)))\n"
   ]
  },
  {
   "cell_type": "code",
   "execution_count": 17,
   "metadata": {
    "scrolled": true
   },
   "outputs": [
    {
     "name": "stdout",
     "output_type": "stream",
     "text": [
      "{('Apple', 'Box1'): 327, ('Orange', 'Box1'): 151, ('Orange', 'Box2'): 286, ('Apple', 'Box2'): 105, ('Banana', 'Box1'): 41, ('Banana', 'Box2'): 90}\n",
      "[[ 327.  151.   41.]\n",
      " [ 105.  286.   90.]]\n"
     ]
    }
   ],
   "source": [
    "   \n",
    "var_names = ['Fruit', 'Box']\n",
    "ev_counts = sample_states(var_names, states, index_names, parents, theta, num_of_samples=1000)\n",
    "C = counts_to_table(var_names, ev_counts, index_names, states)\n",
    "#eng = Engine(index_names, visible_names, parents, cardinalities, theta)\n",
    "\n",
    "#C = evidence_to_counts(X, index_names)\n",
    "print(ev_counts)\n",
    "print(C)"
   ]
  },
  {
   "cell_type": "markdown",
   "metadata": {},
   "source": [
    "## Example: Two dice\n",
    "\n",
    "Two fair die are thrown. Their sum comes up $9$. What is the face value of the first dice?"
   ]
  },
  {
   "cell_type": "code",
   "execution_count": 50,
   "metadata": {
    "scrolled": true
   },
   "outputs": [
    {
     "data": {
      "image/png": "[encoded data removed]",
      "text/plain": [
       "<IPython.core.display.Image object>"
      ]
     },
     "metadata": {},
     "output_type": "display_data"
    }
   ],
   "source": [
    "from itertools import product \n",
    "\n",
    "## Define the model\n",
    "index_names = ['Die1', 'Die2', 'Sum']\n",
    "\n",
    "parents = {'Die1': [], 'Die2': [], 'Sum': ['Die1', 'Die2']}\n",
    "\n",
    "states = {'Die1': list(range(1,7)), 'Die2': list(range(1,7)), 'Sum': list(range(2,13))}\n",
    "cardinalities = cardinalities_from_states(index_names, states)\n",
    "\n",
    "show_dag_image(index_names, parents)\n",
    "\n",
    "S = np.zeros(cardinalities)\n",
    "\n",
    "for i,j in product(range(1,7),repeat=2):\n",
    "    S[i-1,j-1,i+j-2] = 1\n",
    "\n",
    "cp_tables = {('Die1',): [0/6, 2/6,1/6,1/6,2/6,0/6],\n",
    "             ('Die2',): [1/6, 1/6,1/6,1/6,1/6,1/6],\n",
    "             ('Sum','Die1','Die2'): S\n",
    "    }\n",
    "\n",
    "theta = make_cp_tables(index_names, cardinalities, cp_tables )\n",
    "eng = Engine(index_names, parents, states, theta)"
   ]
  },
  {
   "cell_type": "code",
   "execution_count": 36,
   "metadata": {
    "collapsed": true
   },
   "outputs": [],
   "source": [
    "%matplotlib inline\n",
    "import matplotlib as mpl\n",
    "import matplotlib.pyplot as plt\n"
   ]
  },
  {
   "cell_type": "code",
   "execution_count": 48,
   "metadata": {
    "collapsed": true
   },
   "outputs": [],
   "source": [
    "marg = eng.compute_marginal(['Die1', 'Die2'])"
   ]
  },
  {
   "cell_type": "code",
   "execution_count": 52,
   "metadata": {
    "scrolled": true
   },
   "outputs": [
    {
     "data": {
      "image/png": "[encoded data removed]",
      "text/plain": [
       "<matplotlib.figure.Figure at 0x1516c71470>"
      ]
     },
     "metadata": {},
     "output_type": "display_data"
    }
   ],
   "source": [
    "vname = 'Die2'\n",
    "eng.propagate_observation({'Sum':10})\n",
    "marg = eng.marginals([vname], states)\n",
    "a = [x for x in marg[vname].keys()]\n",
    "b = [marg[vname][x] for x in marg[vname].keys()]\n",
    "\n",
    "plt.title(vname)\n",
    "plt.bar(a, normalize(b))\n",
    "plt.ylim([0, 1])\n",
    "plt.show()\n"
   ]
  },
  {
   "cell_type": "markdown",
   "metadata": {},
   "source": [
    "## Example: A Simple chain"
   ]
  },
  {
   "cell_type": "code",
   "execution_count": 17,
   "metadata": {},
   "outputs": [
    {
     "data": {
      "image/png": "[encoded data removed]",
      "text/plain": [
       "<IPython.core.display.Image object>"
      ]
     },
     "metadata": {},
     "output_type": "display_data"
    }
   ],
   "source": [
    "## Define the model\n",
    "index_names = ['i', 'j', 'k']\n",
    "cardinalities = [10, 20, 3]\n",
    "parents = {'i': [], 'j': ['k'], 'k': ['i']}\n",
    "\n",
    "show_dag_image(index_names, parents)\n",
    "\n",
    "#parents = {'k': [], 'i': ['k'], 'j': ['k']}\n",
    "visible_names = ['i','j']\n",
    "visibles = index_names_to_num(index_names, visible_names)\n",
    "\n"
   ]
  },
  {
   "cell_type": "markdown",
   "metadata": {},
   "source": [
    "## Example: Chest Clinic\n",
    "\n",
    "The `chest clinic` model (originally known also as `Asia`) is a famous toy medical expert system example from the classical 1988 paper of Lauritzen and Spiegelhalter.\n",
    "https://www.jstor.org/stable/pdf/2345762.pdf\n",
    "\n",
    " Shortness-of-breath (dyspnoea) may be due to tuberculosis, lung cancer or\n",
    " bronchitis, or none of them, or more than one of them. A recent visit to Asia\n",
    " increases the chances of tuberculosis, while smoking is known to be a risk factor\n",
    " for both lung cancer and bronchitis. The results of a single chest X-ray do not\n",
    " discriminate between lung cancer and tuberculosis, as neither does the presence\n",
    " or absence of dyspnoea.\n",
    "\n",
    "Also see: http://www.bnlearn.com/documentation/man/asia.html\n",
    "\n",
    "\n",
    "In this toy domain, a patient can have three diseases:\n",
    "\n",
    "* T: Tuberculosis\n",
    "* L: Lung Cancer\n",
    "* B: Bronchitis \n",
    "\n",
    "We also have the following possible a-priori effects on contracting a disease:\n",
    "\n",
    "* A: There is a Tuberculosis epidemic in Asia, so a visit may have an effect on Tuberculosis\n",
    "* S: Smoking history is known to have an effect both on Lung cancer and Bronchitis\n",
    "\n",
    "Logical variables may be present, for example \n",
    "* E: Either T or L or both\n",
    "\n",
    "Symptoms or medical test results\n",
    "\n",
    "* D: The patient can show Dyspnea: Difficult breathing; shortness of breath, depending on T,L or B \n",
    "* X: X Ray gives a positive response if either Lung Cancer or Tuberclosis, or both. B does not have a direct efect on the outcome of the X-Ray\n"
   ]
  },
  {
   "cell_type": "code",
   "execution_count": 53,
   "metadata": {
    "scrolled": false
   },
   "outputs": [
    {
     "data": {
      "image/png": "[encoded data removed]",
      "text/plain": [
       "<IPython.core.display.Image object>"
      ]
     },
     "metadata": {},
     "output_type": "display_data"
    }
   ],
   "source": [
    "# [A][S][T|A][L|S][B|S][E|T:L][X|E][D|B:E]\n",
    "\n",
    "index_names = ['A', 'S', 'T', 'L', 'B', 'E', 'X', 'D']\n",
    "parents = {'A':[], 'S':[], 'T':['A'], 'L':['S'], 'B':['S'], 'E':['T','L'], 'X':['E'], 'D':['B','E']}\n",
    "\n",
    "## A Method for systematically entering the conditional probability tables\n",
    "\n",
    "# P(A = Yes) = 0.01\n",
    "# P(S = Yes) = 0.5\n",
    "# P(T=Positive | A=Yes) = 0.05\n",
    "# P(T=Positive | A=No) = 0.01\n",
    "# P(L=Positive | S=Yes) = 0.1\n",
    "# P(L=Positive | S=No) = 0.01\n",
    "# P(B=Positive | S=Yes) = 0.6\n",
    "# P(B=Positive | S=No) = 0.3\n",
    "# P(E=True | L=Positive, T=Positive) = 1\n",
    "# P(E=True | L=Positive, T=Negative) = 1\n",
    "# P(E=True | L=Negative, T=Positive) = 1\n",
    "# P(E=True | L=Negative, T=Negative) = 0\n",
    "# P(X=Positive | E=True) = 0.98\n",
    "# P(X=Positive | E=False) = 0.05\n",
    "# P(D=Positive | E=True, B=Positive) = 0.9\n",
    "# P(D=Positive | E=True, B=Negative) = 0.7\n",
    "# P(D=Positive | E=False, B=Positive) = 0.8\n",
    "# P(D=Positive | E=False, B=Negative) = 0.1\n",
    "\n",
    "states = {'A':['No', 'Yes'], \n",
    "          'S':['No', 'Yes'], \n",
    "          'T':['Negative','Positive'], \n",
    "          'L':['Negative','Positive'], \n",
    "          'B':['Negative','Positive'], \n",
    "          'E':['False', 'True'], \n",
    "          'X':['Negative','Positive'],\n",
    "          'D':['Negative','Positive']}\n",
    "\n",
    "cardinalities = cardinalities_from_states(index_names, states) \n",
    "\n",
    "# Conditional Probability Tables\n",
    "cp_tables = {('A',): [0.99, 0.01],\n",
    "             ('S',): [0.5, 0.5],\n",
    "             ('T','A'): [[0.99, 0.01],[0.95,0.05]],\n",
    "             ('L','S'): [[0.99, 0.01],[0.9,0.1]],\n",
    "             ('B','S'): [[0.7,0.3],[0.4, 0.6]],\n",
    "             ('E','T','L'): [[[1.,0.],[0.,1.]] , [[0.,1.],[0.,1.]]],\n",
    "             ('X','E'): [[0.95, 0.05], [0.02, 0.98]],\n",
    "             ('D','B','E'):[[[0.9,0.1],[0.2,0.8]],[[0.3,0.7],[0.1,0.9]]]\n",
    "            }\n",
    "\n",
    "# Todo: write a converter from a standard bn format\n",
    "\n",
    "theta = make_cp_tables(index_names, cardinalities, cp_tables)\n",
    "show_dag_image(index_names, parents)\n",
    "\n",
    "eng = Engine(index_names, parents, states, theta)"
   ]
  },
  {
   "cell_type": "code",
   "execution_count": 406,
   "metadata": {
    "scrolled": true
   },
   "outputs": [
    {
     "data": {
      "text/plain": [
       "array([[[[[[[[ 0.92473374]]]]],\n",
       "\n",
       "\n",
       "\n",
       "\n",
       "         [[[[[ 0.07526626]]]]]]]])"
      ]
     },
     "execution_count": 406,
     "metadata": {},
     "output_type": "execute_result"
    }
   ],
   "source": [
    "eng.propagate_observation({'X': 'Positive', 'D':'Positive', 'S':'Yes'})\n",
    "normalize(eng.compute_marginal(['T']))"
   ]
  },
  {
   "cell_type": "code",
   "execution_count": 397,
   "metadata": {},
   "outputs": [],
   "source": [
    "marg = eng.compute_marginal(['A'])"
   ]
  },
  {
   "cell_type": "code",
   "execution_count": 413,
   "metadata": {
    "scrolled": false
   },
   "outputs": [
    {
     "data": {
      "text/plain": [
       "{'B': {'Negative': 0.29908037361623618, 'Positive': 0.70091962638376382},\n",
       " 'L': {'Negative': 0.42083717712177127, 'Positive': 0.57916282287822873},\n",
       " 'T': {'Negative': 0.71041858856088558, 'Positive': 0.28958141143911442}}"
      ]
     },
     "execution_count": 413,
     "metadata": {},
     "output_type": "execute_result"
    }
   ],
   "source": [
    "#eng.propagate_observation({'X': 'Positive', 'D':'Positive', 'S':'Yes'})\n",
    "eng.propagate_observation({'A':'Yes','S':'Yes','X':'Positive','D':'Positive'})\n",
    "#eng.propagate_observation({'A':'Yes','S':'Yes'})\n",
    "eng.marginals(['T','L','B'], states, normalization=True)"
   ]
  },
  {
   "cell_type": "code",
   "execution_count": 415,
   "metadata": {},
   "outputs": [
    {
     "data": {
      "text/plain": [
       "array([[[[[[[[ 0.16021391]]]],\n",
       "\n",
       "\n",
       "\n",
       "          [[[[ 0.55020468]]]]],\n",
       "\n",
       "\n",
       "\n",
       "\n",
       "         [[[[[ 0.26062327]]]],\n",
       "\n",
       "\n",
       "\n",
       "          [[[[ 0.02895814]]]]]]]])"
      ]
     },
     "execution_count": 415,
     "metadata": {},
     "output_type": "execute_result"
    }
   ],
   "source": [
    "normalize(eng.compute_marginal(['T','L']))"
   ]
  },
  {
   "cell_type": "code",
   "execution_count": null,
   "metadata": {
    "collapsed": true
   },
   "outputs": [],
   "source": [
    "P = multiply(eng.theta, range(len(cardinalities)))\n",
    "P /= marginalize(P, visibles, cardinalities)\n",
    "E_S = X*P"
   ]
  },
  {
   "cell_type": "code",
   "execution_count": null,
   "metadata": {
    "collapsed": true
   },
   "outputs": [],
   "source": [
    "n = 7\n",
    "\n",
    "\n",
    "print(marginalize(E_S, eng.Pot[n], cardinalities).flatten())\n",
    "print(E_S_new[n].flatten())"
   ]
  },
  {
   "cell_type": "code",
   "execution_count": 16,
   "metadata": {},
   "outputs": [
    {
     "data": {
      "text/plain": [
       "(2, 1, 2, 1, 1, 1, 1, 1)"
      ]
     },
     "execution_count": 16,
     "metadata": {},
     "output_type": "execute_result"
    }
   ],
   "source": [
    "theta[2].shape"
   ]
  },
  {
   "cell_type": "code",
   "execution_count": 55,
   "metadata": {
    "scrolled": false
   },
   "outputs": [
    {
     "name": "stdout",
     "output_type": "stream",
     "text": [
      "['A', 'S', 'T', 'L', 'B', 'E', 'X', 'D']\n"
     ]
    },
    {
     "data": {
      "image/png": "[encoded data removed]",
      "text/plain": [
       "<IPython.core.display.Image object>"
      ]
     },
     "metadata": {},
     "output_type": "display_data"
    },
    {
     "name": "stdout",
     "output_type": "stream",
     "text": [
      "{'A': [], 'S': ['A'], 'T': ['S', 'A'], 'L': ['T', 'S'], 'B': ['A'], 'E': ['A'], 'X': ['B', 'T', 'S'], 'D': ['X', 'T', 'S']}\n",
      "[5, 5, 2, 4, 4, 5, 5, 2]\n",
      "{'A': ['A_state_0', 'A_state_1', 'A_state_2', 'A_state_3', 'A_state_4'], 'S': ['S_state_0', 'S_state_1', 'S_state_2', 'S_state_3', 'S_state_4'], 'T': ['T_state_0', 'T_state_1'], 'L': ['L_state_0', 'L_state_1', 'L_state_2', 'L_state_3'], 'B': ['B_state_0', 'B_state_1', 'B_state_2', 'B_state_3'], 'E': ['E_state_0', 'E_state_1', 'E_state_2', 'E_state_3', 'E_state_4'], 'X': ['X_state_0', 'X_state_1', 'X_state_2', 'X_state_3', 'X_state_4'], 'D': ['D_state_0', 'D_state_1']}\n"
     ]
    },
    {
     "data": {
      "text/plain": [
       "(5, 1, 1, 1, 1, 1, 1, 1)"
      ]
     },
     "execution_count": 55,
     "metadata": {},
     "output_type": "execute_result"
    }
   ],
   "source": [
    "#index_names = [a for a in set(['A', 'S', 'T', 'L', 'B', 'E', 'X', 'D'])]\n",
    "index_names = ['A', 'S', 'T', 'L', 'B', 'E', 'X', 'D']\n",
    "parents = random_parents(index_names)\n",
    "show_dag_image(index_names, parents)\n",
    "\n",
    "visible_names = ['X','A','B']\n",
    "visibles = index_names_to_num(index_names, visible_names)\n",
    "\n",
    "families = make_families(index_names, parents)\n",
    "cardinalities = random_cardinalities(index_names)\n",
    "states = states_from_cardinalities(index_names, cardinalities)\n",
    "\n",
    "gamma = 0.01\n",
    "theta = random_cp_tables(index_names, cardinalities, parents, gamma)\n",
    "X = random_observations(cardinalities, visibles)\n",
    "\n",
    "print(parents)\n",
    "print(cardinalities)\n",
    "print(states)\n",
    "theta[0].shape"
   ]
  },
  {
   "cell_type": "markdown",
   "metadata": {},
   "source": [
    "## Example 4: A random Model"
   ]
  },
  {
   "cell_type": "code",
   "execution_count": 58,
   "metadata": {},
   "outputs": [
    {
     "name": "stdout",
     "output_type": "stream",
     "text": [
      "['A', 'B', 'C', 'D', 'E', 'F', 'G', 'H', 'I', 'J']\n"
     ]
    },
    {
     "data": {
      "image/png": "[encoded data removed]",
      "text/plain": [
       "<IPython.core.display.Image object>"
      ]
     },
     "metadata": {},
     "output_type": "display_data"
    }
   ],
   "source": [
    "index_names, parents, cardinalities, states = random_model(10, max_indeg=4)\n",
    "show_dag_image(index_names, parents)\n",
    "\n",
    "#theta = make_random_cp_tables(index_names, cardinalities, parents, gamma=0.01)    \n",
    "\n",
    "visible_names = index_names[-4:]"
   ]
  },
  {
   "cell_type": "code",
   "execution_count": 60,
   "metadata": {
    "scrolled": false
   },
   "outputs": [
    {
     "name": "stdout",
     "output_type": "stream",
     "text": [
      "[5, 8, 3, 4, 0, 1, 2, 6, 7, 9]\n",
      "[{2, 4, 5, 6}, {1, 6, 7, 8, 9}, {0, 1, 2, 3, 4}, {0, 1, 2, 4, 6, 7}, {0, 1, 2, 6, 7, 9}]\n"
     ]
    }
   ],
   "source": [
    "families = make_families(index_names, parents)\n",
    "visibles = index_names_to_num(index_names, visible_names)\n",
    "\n",
    "Clique, elim_seq = make_cliques(families, cardinalities, visibles, show_graph=False)\n",
    "\n",
    "\n",
    "print(elim_seq)\n",
    "print(Clique)"
   ]
  },
  {
   "cell_type": "markdown",
   "metadata": {},
   "source": [
    "## Example 5: A Hidden Markov Model"
   ]
  },
  {
   "cell_type": "code",
   "execution_count": 169,
   "metadata": {},
   "outputs": [
    {
     "data": {
      "image/png": "[encoded data removed]",
      "text/plain": [
       "<IPython.core.display.Image object>"
      ]
     },
     "metadata": {},
     "output_type": "display_data"
    }
   ],
   "source": [
    "index_names = ['X1', 'X2', 'X3', 'X4', 'Y1', 'Y2', 'Y3', 'Y4']\n",
    "parents = {'X1':[], 'Y1':['X1'], 'X2':['X1'], 'Y2':['X2'], 'X3':['X2'], 'Y3':['X3'], 'X4':['X3'], 'Y4':['X4'] }\n",
    "cardinalities = [2]*8\n",
    "\n",
    "show_dag_image(index_names, parents)\n"
   ]
  },
  {
   "cell_type": "markdown",
   "metadata": {},
   "source": [
    "# Building an inference engine"
   ]
  },
  {
   "cell_type": "code",
   "execution_count": null,
   "metadata": {
    "collapsed": true
   },
   "outputs": [],
   "source": [
    "#index_names = [a for a in set(['A', 'S', 'T', 'L', 'B', 'E', 'X', 'D'])]\n",
    "index_names = ['A', 'S', 'T', 'L', 'B', 'E', 'X', 'D']\n",
    "visible_names = ['X', 'A', 'D']\n",
    "parents = random_parents(index_names)\n",
    "cardinalities = random_cardinalities(index_names)\n",
    "states = random_states(index_names, cardinalities)\n",
    "\n",
    "show_dag_image(index_names, parents)\n",
    "\n",
    "\n",
    "families = make_families(index_names, parents)\n",
    "visibles = make_visibles(index_names, visible_names)\n",
    "\n",
    "\n",
    "Clique, elim_seq = make_cliques(families, cardinalities, visibles=None)\n",
    "\n",
    "gamma = 0.01\n",
    "theta = make_random_cp_tables(index_names, cardinalities, parents, gamma)\n"
   ]
  },
  {
   "cell_type": "code",
   "execution_count": 65,
   "metadata": {
    "scrolled": false
   },
   "outputs": [
    {
     "data": {
      "image/png": "[encoded data removed]",
      "text/plain": [
       "<IPython.core.display.Image object>"
      ]
     },
     "metadata": {},
     "output_type": "display_data"
    },
    {
     "data": {
      "text/plain": [
       "array([[[[[[[[199,  95],\n",
       "             [435, 230]]]]]]],\n",
       "\n",
       "\n",
       "\n",
       "\n",
       "\n",
       "\n",
       "       [[[[[[[  7,   8],\n",
       "             [ 15,  11]]]]]]]])"
      ]
     },
     "execution_count": 65,
     "metadata": {},
     "output_type": "execute_result"
    }
   ],
   "source": [
    "index_names = ['A', 'S', 'T', 'L', 'B', 'E', 'X', 'D']\n",
    "parents = {'A':[], 'S':[], 'T':['A'], 'L':['S'], 'B':['S'], 'E':['T','L'], 'X':['E'], 'D':['B','E']}\n",
    "show_dag_image(index_names, parents)\n",
    "cardinalities = [2,2,2,2,2,2,2,2]\n",
    "states = states_from_cardinalities(index_names, cardinalities)\n",
    "\n",
    "visible_names = ['A', 'X', 'D']\n",
    "visibles = index_names_to_num(index_names, visible_names)\n",
    "## Generate random potentials\n",
    "gamma = 0.01\n",
    "theta = random_cp_tables(index_names, cardinalities, parents, gamma)\n",
    "\n",
    "#X = random_observations(cardinalities, visibles)\n",
    "\n",
    "eng = Engine(index_names, parents, states, theta, visible_names) \n",
    "\n",
    "eng.sample_counts(visible_names, num_of_samples=1000 )"
   ]
  },
  {
   "cell_type": "code",
   "execution_count": 67,
   "metadata": {},
   "outputs": [
    {
     "data": {
      "text/plain": [
       "array([[[[[[[[ 203.10127258,  105.91468944],\n",
       "             [ 429.58371435,  226.9951912 ]]]]]]],\n",
       "\n",
       "\n",
       "\n",
       "\n",
       "\n",
       "\n",
       "       [[[[[[[   7.19145173,    3.74718519],\n",
       "             [  15.36001214,    8.10648336]]]]]]]])"
      ]
     },
     "execution_count": 67,
     "metadata": {},
     "output_type": "execute_result"
    }
   ],
   "source": [
    "eng.propagate_observation()\n",
    "eng.compute_marginal(visible_names)*1000"
   ]
  },
  {
   "cell_type": "code",
   "execution_count": 69,
   "metadata": {},
   "outputs": [],
   "source": [
    "X = eng.sample_counts(visible_names, num_of_samples=1000)"
   ]
  },
  {
   "cell_type": "code",
   "execution_count": 70,
   "metadata": {
    "scrolled": false
   },
   "outputs": [
    {
     "data": {
      "text/plain": [
       "array([[[[[[[[203, 106],\n",
       "             [434, 221]]]]]]],\n",
       "\n",
       "\n",
       "\n",
       "\n",
       "\n",
       "\n",
       "       [[[[[[[  4,   2],\n",
       "             [ 26,   4]]]]]]]])"
      ]
     },
     "execution_count": 70,
     "metadata": {},
     "output_type": "execute_result"
    }
   ],
   "source": [
    "X"
   ]
  },
  {
   "cell_type": "code",
   "execution_count": null,
   "metadata": {
    "collapsed": true
   },
   "outputs": [],
   "source": []
  },
  {
   "cell_type": "code",
   "execution_count": 363,
   "metadata": {},
   "outputs": [
    {
     "data": {
      "text/plain": [
       "array([[[[[[[[ 0.03980236,  0.02064799],\n",
       "             [ 0.13923981,  0.06172193]]]]]]],\n",
       "\n",
       "\n",
       "\n",
       "\n",
       "\n",
       "\n",
       "       [[[[[[[ 0.12894433,  0.03705469],\n",
       "             [ 0.45607671,  0.11651218]]]]]]]])"
      ]
     },
     "execution_count": 363,
     "metadata": {},
     "output_type": "execute_result"
    }
   ],
   "source": [
    "eng.compute_marginal(visibles)"
   ]
  },
  {
   "cell_type": "code",
   "execution_count": 322,
   "metadata": {
    "collapsed": true
   },
   "outputs": [],
   "source": [
    "E_S_new = eng.compute_ESS()"
   ]
  },
  {
   "cell_type": "code",
   "execution_count": 323,
   "metadata": {
    "collapsed": true
   },
   "outputs": [],
   "source": [
    "P = multiply(eng.theta, range(len(cardinalities)))\n",
    "E_S = P"
   ]
  },
  {
   "cell_type": "code",
   "execution_count": 105,
   "metadata": {
    "collapsed": true
   },
   "outputs": [],
   "source": [
    "E_S_new = eng.propagate(X)\n"
   ]
  },
  {
   "cell_type": "code",
   "execution_count": 324,
   "metadata": {
    "collapsed": true
   },
   "outputs": [],
   "source": [
    "P = multiply(eng.theta, range(len(cardinalities)))\n",
    "Px = marginalize(P, visibles, cardinalities)\n",
    "P /= Px\n",
    "E_S = X*P"
   ]
  },
  {
   "cell_type": "code",
   "execution_count": 325,
   "metadata": {},
   "outputs": [
    {
     "data": {
      "text/plain": [
       "array([[[[[[[[ 0.07058016,  0.06886115],\n",
       "             [ 0.02652879,  0.05208144]]]]]]],\n",
       "\n",
       "\n",
       "\n",
       "\n",
       "\n",
       "\n",
       "       [[[[[[[ 0.10527259,  0.16839005],\n",
       "             [ 0.15470018,  0.35358565]]]]]]]])"
      ]
     },
     "execution_count": 325,
     "metadata": {},
     "output_type": "execute_result"
    }
   ],
   "source": [
    "Px"
   ]
  },
  {
   "cell_type": "code",
   "execution_count": 317,
   "metadata": {},
   "outputs": [
    {
     "data": {
      "text/plain": [
       "array([[[[[[[[ 0.15081207,  0.13275136],\n",
       "             [ 0.42118347,  0.01969353]]]]]]],\n",
       "\n",
       "\n",
       "\n",
       "\n",
       "\n",
       "\n",
       "       [[[[[[[ 0.05735447,  0.05056736],\n",
       "             [ 0.16014664,  0.0074911 ]]]]]]]])"
      ]
     },
     "execution_count": 317,
     "metadata": {},
     "output_type": "execute_result"
    }
   ],
   "source": [
    "SepX"
   ]
  },
  {
   "cell_type": "code",
   "execution_count": 122,
   "metadata": {},
   "outputs": [
    {
     "name": "stdout",
     "output_type": "stream",
     "text": [
      "[ 0.70165921  0.29834079]\n",
      "[ 0.70165921  0.29834079]\n"
     ]
    }
   ],
   "source": [
    "n = 0\n",
    "\n",
    "\n",
    "print(marginalize(E_S, eng.Pot[n], cardinalities).flatten())\n",
    "print(E_S_new[n].flatten())"
   ]
  },
  {
   "cell_type": "markdown",
   "metadata": {},
   "source": [
    "# Obsolete"
   ]
  },
  {
   "cell_type": "code",
   "execution_count": 2,
   "metadata": {
    "collapsed": true
   },
   "outputs": [],
   "source": [
    "  \n",
    "class DAG_Model:\n",
    "    def __init__(self, index_names, parents, cardinalities):\n",
    "        ## Preprocessing the model\n",
    "        nVertex = len(index_names)\n",
    "        name2idx = {name: i for i,name in enumerate(index_names)}\n",
    "\n",
    "        ## Build Graph data structures\n",
    "        # Adjacency matrix\n",
    "        adj = np.zeros((nVertex, nVertex), dtype=int)\n",
    "        for i_name in parents.keys():\n",
    "            i = name2idx[i_name]\n",
    "            for m_name in parents[i_name]:\n",
    "                j = name2idx[m_name]\n",
    "                adj[i, j] = 1\n",
    "                \n",
    "        # Family, Parents and Children\n",
    "        fa = [[]]*nVertex\n",
    "        pa = [[]]*nVertex\n",
    "        ch = [[]]*nVertex\n",
    "        for n in range(nVertex):\n",
    "            p = find(adj[n,:])\n",
    "            pa[n] = p\n",
    "            fa[n] = [n]+p\n",
    "            c = find(adj[:,n])\n",
    "            ch[n] = c\n",
    "              \n",
    "        # Sizes\n",
    "        size = [[]]*nVertex\n",
    "        for n in range(nVertex):\n",
    "            size[n] = [1]*nVertex\n",
    "            for j in fa[n]:\n",
    "                size[n][j] = cardinalities[j]\n",
    "\n",
    "        self.nVertex = nVertex\n",
    "        self.name2idx = name2idx\n",
    "        self.index_names = index_names\n",
    "        self.parents = parents\n",
    "        self.adj = adj\n",
    "        self.pa = pa\n",
    "        self.fa = fa\n",
    "        self.ch = ch\n",
    "\n",
    "        self.cardinalities = cardinalities\n",
    "        self.size = size\n",
    "    def nodename2idx(self, name):\n",
    "        return self.name2idx[name]\n",
    "    def nodenames2idx(self, names):\n",
    "        return [self.name2idx[nm] for nm in names] \n",
    "    def nodenames2idxset(self, names):\n",
    "        return set([self.name2idx[nm] for nm in names])\n",
    "    def clique_shape(self, idxs):\n",
    "        '''Returns the shape vector for a clique potential on given indices'''\n",
    "        shape = [1]*self.nVertex\n",
    "        for i in idxs:\n",
    "            shape[i] = cardinalities[i]\n",
    "        return shape\n",
    "    def clique_compact_shape(self, idxs):\n",
    "        '''Returns the shape vector for a clique potential on given indices'''\n",
    "        shape = [1]*len(idxs)\n",
    "        for u,i in enumerate(idxs):\n",
    "            shape[u] = cardinalities[i]\n",
    "        return shape\n",
    "    def show_image(self, imstr='file.png'):\n",
    "        A = pgv.AGraph(directed=True)\n",
    "\n",
    "        for i_n in self.index_names:\n",
    "            A.add_node(self.nodename2idx(i_n), label=i_n)\n",
    "            for j_n in self.parents[i_n]:\n",
    "                A.add_edge(self.nodename2idx(j_n), self.nodename2idx(i_n))\n",
    "\n",
    "        A.layout(prog='dot')\n",
    "        A.draw(imstr)\n",
    "        return imstr\n",
    "    def show_ug_image(self, UG, imstr='file.png'):\n",
    "        A = pgv.AGraph(directed=False)\n",
    "\n",
    "        for i_n in range(UG.shape[0]):\n",
    "            A.add_node(i_n, label=i_n)\n",
    "            for j_n in find(UG[i_n,:]):\n",
    "                if j_n>i_n:\n",
    "                    A.add_edge(j_n, i_n)\n",
    "\n",
    "        A.layout(prog='dot')\n",
    "        A.draw(imstr)\n",
    "        return imstr\n",
    "    def make_cliques(self, visibles=None, show_graph=False):\n",
    "        if visibles is None:\n",
    "            C = G.fa\n",
    "        else:\n",
    "            C = G.fa+[visibles]\n",
    "           \n",
    "        # Moral Graph\n",
    "        MG = np.zeros((G.nVertex, G.nVertex)) \n",
    "\n",
    "        for F in C:\n",
    "            for edge in combinations(F,2):\n",
    "                MG[edge[0], edge[1]] = 1  \n",
    "                MG[edge[1], edge[0]] = 1  \n",
    "\n",
    "        if show_graph:\n",
    "            imf = self.show_ug_image(MG,imstr='MG.png')\n",
    "            display(Image(imf))\n",
    "\n",
    "                \n",
    "        elim = []\n",
    "        Clique = []\n",
    "        N = self.nVertex\n",
    "        visited = [False]*N\n",
    "\n",
    "        # Find an elimination sequence\n",
    "        # Based on greedy search \n",
    "        # Criteria, select the minimum induced clique size\n",
    "        for j in range(N):\n",
    "\n",
    "            min_clique_size = np.inf\n",
    "            min_idx = -1\n",
    "            for i in range(N):\n",
    "                if not visited[i]:\n",
    "                    neigh = find(MG[i,:])\n",
    "                    nm = np.prod(self.clique_shape(neigh+[i]))\n",
    "\n",
    "                    if min_clique_size > nm:\n",
    "                        min_idx = i\n",
    "                        min_clique_size = nm\n",
    "\n",
    "            neigh = find(MG[min_idx,:])\n",
    "            temp = set(neigh+[min_idx])\n",
    "\n",
    "            is_subset = False\n",
    "            for CC in Clique:\n",
    "                if temp.issubset(CC):\n",
    "                    is_subset=True\n",
    "            if not is_subset:\n",
    "                Clique.append(temp)\n",
    "\n",
    "            # Remove the node from the moral graph\n",
    "            for edge in combinations(neigh,2):\n",
    "                MG[edge[0], edge[1]] = 1\n",
    "                MG[edge[1], edge[0]] = 1\n",
    "\n",
    "            MG[min_idx,:] = 0\n",
    "            MG[:, min_idx] = 0\n",
    "            elim.append(min_idx)\n",
    "            visited[min_idx] = True\n",
    "            if show_graph:\n",
    "                imf = self.show_ug_image(MG,imstr='MG'+str(j)+'.png')\n",
    "                display(Image(imf))\n",
    "            \n",
    "        return elim, Clique    \n",
    "    \n",
    "   "
   ]
  },
  {
   "cell_type": "code",
   "execution_count": null,
   "metadata": {
    "collapsed": true
   },
   "outputs": [],
   "source": [
    "    def propagate_old(self, X=[]):\n",
    "        #print('Collection Stage')\n",
    "        E_S = dict()\n",
    "            \n",
    "        for c in reversed(self.order):\n",
    "            #print('Processing Clique', c, Clique[c])   \n",
    "            self.CliquePot[c] = np.ones(clique_shape(self.cardinalities, self.Clique[c]))\n",
    "            for p in self.receive_from[c]:\n",
    "                self.CliquePot[c] *= self.SeparatorPot[(p,c)]\n",
    "\n",
    "            #for th in find(Clique2Pot[c, :]):\n",
    "            #    print('Multiply ', Pot[th])\n",
    "\n",
    "            idx = find(self.Clique2Pot[c, :])\n",
    "            if idx:\n",
    "                self.CliquePot[c] *= multiply(self.theta, idx) \n",
    "                #print(CliquePot[c].shape)\n",
    "\n",
    "            if not is_root(c, self.parent):\n",
    "                idx = self.Clique[self.parent[c]].intersection(self.Clique[c])\n",
    "                self.SeparatorPot[(c,self.parent[c])] = marginalize(self.CliquePot[c], idx, self.cardinalities)\n",
    "                #print('Compute Separator potential of', c, 'with', parent[c],'on', Clique[parent[c]].intersection(Clique[c]))\n",
    "\n",
    "        SepX = marginalize(self.CliquePot[self.RootClique], visibles, self.cardinalities)\n",
    "        if X:    \n",
    "            # Note: Take care of zero divide\n",
    "            self.CliquePot[self.RootClique] *= X/SepX\n",
    "            #print('*Compute Separator potential with observations', visibles)\n",
    "            #print('*Multiply Observations', visibles)\n",
    "            #print('*Divide Separator by separator potentials', visibles)\n",
    "\n",
    "        for n in find(self.Clique2Pot[self.RootClique, :]):\n",
    "            #print(n)\n",
    "            #print('Compute Marginal ', Pot[n])\n",
    "            E_S[n] = marginalize(self.CliquePot[self.RootClique], self.Pot[n], self.cardinalities)\n",
    "\n",
    "        #print('Distribution Stage')\n",
    "        for c in self.order[1:]:\n",
    "            #print('Processing Clique', c, Clique[c])\n",
    "            idx = self.Clique[self.parent[c]].intersection(self.Clique[c])\n",
    "            self.CliquePot[c] *= marginalize(self.CliquePot[self.parent[c]], idx, self.cardinalities)/self.SeparatorPot[(c,self.parent[c])]\n",
    "            #print('Compute Separator potential of', parent[c], 'with', c, 'on', Clique[parent[c]].intersection(Clique[c]))\n",
    "            #print('Divide by the old separator potential and multiply with the clique potential')\n",
    "\n",
    "            for n in find(self.Clique2Pot[c, :]):\n",
    "                #print(n)\n",
    "                #print('Compute Marginal ', Pot[n])\n",
    "                #E_S[n] = normalize(marginalize(self.CliquePot[c], self.Pot[n], self.G), axis=n)\n",
    "                E_S[n] = marginalize(self.CliquePot[c], self.Pot[n], self.cardinalities)\n",
    "                \n",
    "        return E_S, SepX"
   ]
  },
  {
   "cell_type": "code",
   "execution_count": 104,
   "metadata": {},
   "outputs": [
    {
     "data": {
      "text/plain": [
       "array([ 0.        ,  0.51149101,  0.60008427,  0.        ])"
      ]
     },
     "execution_count": 104,
     "metadata": {},
     "output_type": "execute_result"
    }
   ],
   "source": [
    "np.random.gamma(shape=[0,1,1,0])"
   ]
  },
  {
   "cell_type": "code",
   "execution_count": 188,
   "metadata": {
    "collapsed": true
   },
   "outputs": [],
   "source": [
    "a = np.array([[[1,2,3],[3,4]]])"
   ]
  },
  {
   "cell_type": "code",
   "execution_count": 196,
   "metadata": {
    "scrolled": true
   },
   "outputs": [
    {
     "data": {
      "text/plain": [
       "(5,\n",
       " 2,\n",
       " 1,\n",
       " 1,\n",
       " 4,\n",
       " 1,\n",
       " 1,\n",
       " 1,\n",
       " 1,\n",
       " 1,\n",
       " 1,\n",
       " 1,\n",
       " 1,\n",
       " 1,\n",
       " 1,\n",
       " 1,\n",
       " 1,\n",
       " 1,\n",
       " 1,\n",
       " 1,\n",
       " 1,\n",
       " 1,\n",
       " 1,\n",
       " 1,\n",
       " 1,\n",
       " 1,\n",
       " 1,\n",
       " 1,\n",
       " 1,\n",
       " 1)"
      ]
     },
     "execution_count": 196,
     "metadata": {},
     "output_type": "execute_result"
    }
   ],
   "source": [
    "theta[4].shape"
   ]
  },
  {
   "cell_type": "code",
   "execution_count": 205,
   "metadata": {
    "collapsed": true
   },
   "outputs": [],
   "source": [
    "sz = [1,3,4,2,1,1]\n",
    "a = np.random.rand(*sz)"
   ]
  },
  {
   "cell_type": "code",
   "execution_count": 224,
   "metadata": {
    "collapsed": true
   },
   "outputs": [],
   "source": [
    "idx = [0,1,3,(0,1),0,0]"
   ]
  },
  {
   "cell_type": "code",
   "execution_count": 60,
   "metadata": {
    "collapsed": true
   },
   "outputs": [],
   "source": [
    "def make_evidence(ev, index_names, cardinalities, states):\n",
    "    \n",
    "    var_names = list(ev.keys())\n",
    "    nums = index_names_to_num(index_names, var_names)\n",
    "    osize = [cardinalities[n] for n in nums]\n",
    "    idx = list(nums)\n",
    "    shape = clique_shape(cardinalities,idx)\n",
    "\n",
    "    C = np.zeros(shape=shape)\n",
    "    N = len(index_names)\n",
    "\n",
    "    conf = [0]*N\n",
    "    for key in var_names:\n",
    "        val = ev[key]\n",
    "        s = states[key].index(val)\n",
    "        n = index_names_to_num(index_names, [key])[0]\n",
    "\n",
    "        conf[n] = s\n",
    "\n",
    "    #print(conf)\n",
    "    C[tuple(conf)] = 1\n",
    "        \n",
    "    return C\n",
    " "
   ]
  }
 ],
 "metadata": {
  "kernelspec": {
   "display_name": "Python [default]",
   "language": "python",
   "name": "python3"
  },
  "language_info": {
   "codemirror_mode": {
    "name": "ipython",
    "version": 3
   },
   "file_extension": ".py",
   "mimetype": "text/x-python",
   "name": "python",
   "nbconvert_exporter": "python",
   "pygments_lexer": "ipython3",
   "version": "3.6.1"
  },
  "toc": {
   "nav_menu": {},
   "number_sections": true,
   "sideBar": true,
   "skip_h1_title": false,
   "toc_cell": false,
   "toc_position": {},
   "toc_section_display": "block",
   "toc_window_display": false
  }
 },
 "nbformat": 4,
 "nbformat_minor": 2
}
