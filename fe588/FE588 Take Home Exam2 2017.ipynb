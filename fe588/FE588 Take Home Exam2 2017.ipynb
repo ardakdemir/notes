{
 "cells": [
  {
   "cell_type": "markdown",
   "metadata": {},
   "source": [
    "In the class we have implemented a polynomial object, that is extended as below.\n",
    "\n",
    "\n",
    "\n",
    "1. We show how to define the $+$ operator to implement the addition operation of two polynomials. The current implementation is incomplete as it can not add $p(x) = x^2 + 2x + 3$ and $q(x) = x+4$ if these are defined as arrays of different sizes. You should fix this\n",
    "\n",
    "2. Implement the substraction $-$ (method sub)\n",
    "\n",
    "3. Implement multiplication $*$ (method mul). Note that this is equivalent to the convolution of the coefficients\n",
    "\n",
    "4. Implement ploting the graph of the polynomial (method plot). In this function, you should use matplotlib"
   ]
  },
  {
   "cell_type": "code",
   "execution_count": 19,
   "metadata": {
    "scrolled": true
   },
   "outputs": [
    {
     "name": "stdout",
     "output_type": "stream",
     "text": [
      "2z^2 3z^1 1\n",
      "[2, 3, 1]\n",
      "0z^2 4z^1 4\n",
      "[0, 4, 4]\n",
      "--------------------\n",
      "Result of p + q:\n",
      "2z^2 7z^1 5\n",
      "[2, 7, 5]\n",
      "--------------------\n",
      "Result of p - q:\n",
      "Implement me\n",
      "[]\n",
      "--------------------\n",
      "Result of p * q:\n",
      "Implement me\n",
      "[]\n",
      "--------------------\n",
      "implement me\n",
      "We should see a plot here\n"
     ]
    }
   ],
   "source": [
    "class polynomial(object):\n",
    "    def __init__(self, c, v):\n",
    "        self.coeff = c\n",
    "        self.v = v\n",
    "    def __repr__(self):\n",
    "        D = len(self.coeff)\n",
    "        for i in range(D):\n",
    "            if i<D-1:\n",
    "                print(self.coeff[i], end='')\n",
    "                print('{}^{} '.format(self.v, D-i-1), end='')\n",
    "            else:\n",
    "                print(self.coeff[i])\n",
    "        \n",
    "        return str(self.coeff)\n",
    "    def __add__(self,b):\n",
    "        \"\"\"Computes a+b and returns the result\"\"\"\n",
    "        ### Note:  This code does not add polynomials \n",
    "        ###        of different orders so you must fix this\n",
    "        D = len(self.coeff)\n",
    "        \n",
    "        coeff = []\n",
    "        for i in range(D):\n",
    "            coeff.append(self.coeff[i] + b.coeff[i])\n",
    "        \n",
    "        return polynomial(coeff, self.v)\n",
    "    def __sub__(self,b):\n",
    "        \"\"\"Computes a-b and returns the result\"\"\"\n",
    "        print('Implement me')\n",
    "        return polynomial([],self.v)\n",
    "    def __mul__(self,b):\n",
    "        \"\"\"Computes a*b and returns the result\"\"\"\n",
    "        print('Implement me')\n",
    "        return polynomial([],self.v)\n",
    "    def plot(self, number_of_points=100, left=-1, right=1):\n",
    "        \"\"\"\n",
    "            Evaluates the polynomial at number_of_points equally spaced \n",
    "            points between left and right and plots the result using matplotlib\n",
    "        \"\"\"\n",
    "        print('implement me')\n",
    "        return\n",
    "    \n",
    "    \n",
    "p = polynomial([2,3,1], 'z')\n",
    "print(p)\n",
    "\n",
    "q = polynomial([0,4,4], 'z')\n",
    "# Your program must also work when we define more naturally\n",
    "# q = polynomial([4,4], 'z')\n",
    "print(q)\n",
    "\n",
    "print('--------------------')\n",
    "print('Result of p + q:')\n",
    "r1 = p + q\n",
    "print(r1)\n",
    "\n",
    "print('--------------------')\n",
    "print('Result of p - q:')\n",
    "r2 = p - q\n",
    "print(r2)\n",
    "\n",
    "print('--------------------')\n",
    "print('Result of p * q:')\n",
    "r3 = p * q\n",
    "print(r3)\n",
    "\n",
    "print('--------------------')\n",
    "# Generates a plot\n",
    "p.plot()\n",
    "print('We should see a plot here')\n",
    "              \n",
    "      "
   ]
  },
  {
   "cell_type": "code",
   "execution_count": 43,
   "metadata": {
    "collapsed": true
   },
   "outputs": [],
   "source": [
    "%matplotlib inline\n",
    "import matplotlib as mpl\n",
    "import matplotlib.pyplot as plt\n",
    "import numpy as np\n",
    "import scipy as sc\n",
    "import pandas as pd\n",
    "# \n",
    "# import seaborn as sns\n",
    "# sns.set(color_codes=True)\n",
    "\n",
    "# plt.figure(figsize=(5,5))\n",
    "# df = pd.read_csv(u'data/wind_tribune.csv')\n",
    "# sns.jointplot(x='wind_speed', y='production', data=df);\n",
    "# plt.show()"
   ]
  },
  {
   "cell_type": "code",
   "execution_count": 72,
   "metadata": {},
   "outputs": [
    {
     "data": {
      "text/plain": [
       "array([11,  9])"
      ]
     },
     "execution_count": 72,
     "metadata": {},
     "output_type": "execute_result"
    }
   ],
   "source": [
    "\n",
    "a = np.array([1,2,3,4,5,9,11])\n",
    "\n",
    "a[:-3:-1]"
   ]
  },
  {
   "cell_type": "code",
   "execution_count": 85,
   "metadata": {
    "scrolled": true
   },
   "outputs": [
    {
     "name": "stdout",
     "output_type": "stream",
     "text": [
      "0.2z^5 -2z^4 -2z^3 -3z +1 \n",
      "-1z^3 +4z^2 +4z -4 \n"
     ]
    },
    {
     "data": {
      "image/png": "[encoded data removed]",
      "text/plain": [
       "<matplotlib.figure.Figure at 0x10f75b630>"
      ]
     },
     "metadata": {},
     "output_type": "display_data"
    }
   ],
   "source": [
    "import numpy as np\n",
    "\n",
    "\n",
    "class polynomial(object):\n",
    "    def __init__(self, c, v='x'):\n",
    "        self.coeff = c\n",
    "        self.v = v\n",
    "    def __repr__(self):\n",
    "        coeff = self.coeff\n",
    "        v = self.v\n",
    "        s = ''\n",
    "        D = len(coeff)\n",
    "        \n",
    "        first = True\n",
    "        \n",
    "        for i in range(D):\n",
    "            pw = D-i-1\n",
    "            pre = '+' if coeff[i]>0 else ''\n",
    "\n",
    "            if first:\n",
    "                if pre=='+':\n",
    "                    pre = ''\n",
    "                first = False\n",
    "            \n",
    "\n",
    "            if pw == 0:\n",
    "                vname = ''\n",
    "            elif pw == 1:\n",
    "                vname = v\n",
    "            else:\n",
    "                vname = v + '^'+ str(pw)\n",
    "\n",
    "            if coeff[i] != 0:\n",
    "                s += pre+str(coeff[i])+ vname + ' '\n",
    "                \n",
    "        return s\n",
    "    def __add__(self,b):\n",
    "        \"\"\"Computes a+b and returns the result\"\"\"\n",
    "        ### Note:  This code does not add polynomials \n",
    "        ###        of different orders so you must fix this\n",
    "        L_a = len(self.coeff)\n",
    "        L_b = len(b.coeff)\n",
    "        \n",
    "        coeff = self.coeff if L_a > L_b else b.coeff\n",
    "        short = self.coeff if L_a <= L_b else b.coeff\n",
    "        \n",
    "        for i in range(len(short)):\n",
    "            coeff[-1-i] += short[-1-i]\n",
    "            \n",
    "        return polynomial(coeff, self.v)\n",
    "    def __sub__(self,b):\n",
    "        \"\"\"Computes a-b and returns the result\"\"\"\n",
    "        print('Implement me')\n",
    "        return polynomial([],self.v)\n",
    "    def __mul__(self,b):\n",
    "        \"\"\"Computes a*b and returns the result\"\"\"\n",
    "        coeff = np.polymul(self.coeff, b.coeff)\n",
    "        return polynomial(coeff,self.v)\n",
    "    def deriv(self):\n",
    "        coeff = []\n",
    "        D = len(self.coeff)\n",
    "        for i in range(D-1):\n",
    "            pw = D-i-1\n",
    "            coeff.append(pw*self.coeff[i])\n",
    "        \n",
    "        if coeff == []:\n",
    "            coeff = [0]\n",
    "        \n",
    "        return polynomial(coeff, self.v)\n",
    "        \n",
    "    def plot(self, number_of_points=100, left=-1, right=1):\n",
    "        \"\"\"\n",
    "            Evaluates the polynomial at number_of_points equally spaced \n",
    "            points between left and right and plots the result using matplotlib\n",
    "        \"\"\"\n",
    "        x = np.linspace(left,right,number_of_points)\n",
    "        y = np.polyval(self.coeff, x)\n",
    "        plt.plot(x, y, 'k')\n",
    "        plt.show()\n",
    "        \n",
    "        return\n",
    "    \n",
    "    \n",
    "p = polynomial([0.2, -2, -2, 0,-3,1], 'z')\n",
    "print(p)\n",
    "\n",
    "q = polynomial([-1, 4,4,-4], 'z')\n",
    "print(q)\n",
    "\n",
    "q.plot(left=-2.4, right=5)\n",
    "\n",
    "r = p+q"
   ]
  },
  {
   "cell_type": "code",
   "execution_count": 90,
   "metadata": {},
   "outputs": [
    {
     "name": "stdout",
     "output_type": "stream",
     "text": [
      "0.2z^5 -2z^4 -2z^3 -3z +1 \n"
     ]
    },
    {
     "data": {
      "text/plain": [
       "4.0z^3 -24z^2 -12z "
      ]
     },
     "execution_count": 90,
     "metadata": {},
     "output_type": "execute_result"
    }
   ],
   "source": [
    "p = polynomial([0.2, -2, -2, 0,-3,1], 'z')\n",
    "print(p)\n",
    "\n",
    "q = p.deriv().deriv()\n",
    "q"
   ]
  },
  {
   "cell_type": "code",
   "execution_count": 83,
   "metadata": {},
   "outputs": [
    {
     "data": {
      "text/plain": [
       "1x^4 +3x^3 -3x -1 "
      ]
     },
     "execution_count": 83,
     "metadata": {},
     "output_type": "execute_result"
    }
   ],
   "source": [
    "s = polynomial([1,-1])*polynomial([1,1])*polynomial([1,3,1])\n",
    "s"
   ]
  },
  {
   "cell_type": "code",
   "execution_count": 76,
   "metadata": {},
   "outputs": [
    {
     "data": {
      "text/plain": [
       "array([ -0.2,   2.8,  -4.2, -24.8,  11. ,  35. , -24. , -16. ,  12. ])"
      ]
     },
     "execution_count": 76,
     "metadata": {},
     "output_type": "execute_result"
    }
   ],
   "source": [
    "np.polymul(q.coeff, p.coeff)"
   ]
  },
  {
   "cell_type": "code",
   "execution_count": 20,
   "metadata": {},
   "outputs": [
    {
     "name": "stdout",
     "output_type": "stream",
     "text": [
      "2z^2 3z^1 1\n",
      "[2, 3, 1]\n",
      "0z^2 4z^1 4\n",
      "[0, 4, 4]\n",
      "--------------------\n",
      "Result of p + q:\n",
      "2z^2 7z^1 5\n",
      "[2, 7, 5]\n",
      "--------------------\n",
      "Result of p - q:\n",
      "Implement me\n",
      "[]\n",
      "--------------------\n",
      "Result of p * q:\n",
      "Implement me\n",
      "[]\n",
      "--------------------\n",
      "implement me\n",
      "We should see a plot here\n"
     ]
    }
   ],
   "source": [
    "q = polynomial([0,4,4], 'z')\n",
    "# Your program must also work when we define more naturally\n",
    "# q = polynomial([4,4], 'z')\n",
    "print(q)\n",
    "\n",
    "print('--------------------')\n",
    "print('Result of p + q:')\n",
    "r1 = p + q\n",
    "print(r1)\n",
    "\n",
    "print('--------------------')\n",
    "print('Result of p - q:')\n",
    "r2 = p - q\n",
    "print(r2)\n",
    "\n",
    "print('--------------------')\n",
    "print('Result of p * q:')\n",
    "r3 = p * q\n",
    "print(r3)\n",
    "\n",
    "print('--------------------')\n",
    "# Generates a plot\n",
    "p.plot()\n",
    "print('We should see a plot here')\n",
    "              "
   ]
  }
 ],
 "metadata": {
  "kernelspec": {
   "display_name": "Python 3",
   "language": "python",
   "name": "python3"
  },
  "language_info": {
   "codemirror_mode": {
    "name": "ipython",
    "version": 3
   },
   "file_extension": ".py",
   "mimetype": "text/x-python",
   "name": "python",
   "nbconvert_exporter": "python",
   "pygments_lexer": "ipython3",
   "version": "3.5.3"
  },
  "toc": {
   "nav_menu": {},
   "number_sections": true,
   "sideBar": true,
   "skip_h1_title": false,
   "toc_cell": false,
   "toc_position": {},
   "toc_section_display": "block",
   "toc_window_display": false
  }
 },
 "nbformat": 4,
 "nbformat_minor": 2
}
